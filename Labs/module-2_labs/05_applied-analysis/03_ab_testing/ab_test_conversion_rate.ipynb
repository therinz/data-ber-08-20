{
 "cells": [
  {
   "cell_type": "code",
   "execution_count": 1,
   "metadata": {},
   "outputs": [],
   "source": [
    "import os\n",
    "\n",
    "import pandas as pd\n",
    "import numpy as np\n",
    "import seaborn as sns\n",
    "import matplotlib.pyplot as plt\n",
    "import scipy"
   ]
  },
  {
   "cell_type": "markdown",
   "metadata": {},
   "source": [
    "# A/B testing to improve Conversion Rates\n",
    "\n",
    "You work for Company K. Company K is a video streaming service that is selling subscriptions. After running a few analyses, you suggest to the Product Team that placing more prominent upsells on the landing page may result in higher conversion rates (visitors signing up for the subscription). The Product Team took your suggestion with excitement and the engineering team went ahead and implemented the experiment right away. \n",
    "\n",
    "The experiment ran for the month of February 2020. You prepared a few datasets beforehand that will help you in analyzing the success of the A/B test.\n",
    "The A/B test had two experiment groups, A & B, in which visitors assigned to A were in the control group and visitors assigned to B received the new variant with the new upsells. You suggest to assign approximately 7% of the daily visitors to the experiment, applying a 50/50 split among the two variants.\n",
    "\n",
    "You have the following datasets:\n",
    "\n",
    "1. `first_pageviews`: This is a summary of all the unsubscribed users and the timestamp of their first pageview. Users get assigned according to their cookies, which is how we make sure that a user may not be assigned to two different groups when they reach our landing page. Since visitors haven't signed up at this point, they don't have a `user_id`, instead, we assign them a random but unique `anonymous_id`. If visitors get assigned to an experiment, you should see a non-null value in the `exp_id` column. Your experiment has the ids **101** for control and **102** for the variant.\n",
    "2. `subscribers`: This table shows you which users have subscribed at what point in time. To subscribe, you need to be a registered user, which is how you can uniquely identify each subscriber. Since we only sell yearly subscriptions, users cannot have more than 1 subscription within 365 days. \n",
    "3. `users`: This table is useful to link the first pageview of unsubscribed visitors to our subscribers. It keeps track of the `anonymous_id` we assigned to them and maps to the `user_id` we assigned after they sign up\n",
    "\n",
    "Immediately after the end of the experiment, the Product Manager approaches you overly excited and wants you to analyze the success of the experiment.\n",
    "\n",
    "You can find the datasets in the `data/2020-03-01` folder."
   ]
  },
  {
   "cell_type": "code",
   "execution_count": 66,
   "metadata": {},
   "outputs": [],
   "source": [
    "# load the datasets\n",
    "def load_csv(filename, m=3):\n",
    "    return pd.read_csv(os.path.join(\"data\", f\"2020-0{m}-01\", f\"{filename}.csv\"))\n",
    "csvs = [\"first_pageviews\", \"users_mar01\", \"subscriptions_mar01\"]\n",
    "first_pageviews = load_csv(csvs[0], 3)\n",
    "users = load_csv(csvs[1], 3)\n",
    "subscriptions = load_csv(csvs[2], 3)"
   ]
  },
  {
   "cell_type": "markdown",
   "metadata": {},
   "source": [
    "## Inspect the data"
   ]
  },
  {
   "cell_type": "code",
   "execution_count": 67,
   "metadata": {},
   "outputs": [
    {
     "name": "stdout",
     "output_type": "stream",
     "text": [
      "      date_id                          anonymous_id  exp_id\n",
      "0  2020-01-16  4d005f94-e06f-493c-b569-9efb5ce4d203     NaN\n",
      "1  2020-01-16  948ad58a-f483-4007-aa56-280aa018427b     NaN\n",
      "2  2020-01-16  31f4f2e4-4ae6-417b-8a6d-53b98a719145     NaN\n",
      "3  2020-01-16  24747dc7-355a-44b0-95c6-0caa91cd4ae4     NaN\n",
      "4  2020-01-16  0162c4f8-7bc2-4432-90b9-bfb61f5e57b3     NaN\n",
      "---\n",
      "                           anonymous_id                               user_id\n",
      "0  e575dd8c-f02c-4a1a-8a53-fef7ff2b9f95  b67781da-3a0f-48af-80d8-728d3ec31c66\n",
      "1  a92532b2-0317-49bb-9f00-3d9b9ae71ea5  ce1764ca-91a2-4c2e-95fe-c415c5df7be5\n",
      "2  9c39b4d4-d7da-49e2-bcd9-4abee3e211f6  b24712a4-40b7-4841-a9e9-f566d9ed48a9\n",
      "3  858cc4cc-dcd2-4897-815b-500a2ee8c00e  d0e4f27e-11ab-470c-85db-4f7389ba63d4\n",
      "4  96a9ad69-568e-40bd-9ff7-3e6b8e0d3f9a  91b679ad-38cc-4569-b5fc-8a98dc858b8d\n",
      "---\n",
      "                                user_id                     created_at  \\\n",
      "0  b67781da-3a0f-48af-80d8-728d3ec31c66  2020-01-26 09:00:55.628471160   \n",
      "1  ce1764ca-91a2-4c2e-95fe-c415c5df7be5  2020-01-30 10:43:16.359589080   \n",
      "2  b24712a4-40b7-4841-a9e9-f566d9ed48a9  2020-02-15 21:19:35.663792880   \n",
      "3  d0e4f27e-11ab-470c-85db-4f7389ba63d4  2020-02-13 04:45:52.198410780   \n",
      "4  91b679ad-38cc-4569-b5fc-8a98dc858b8d  2020-02-10 13:24:29.670026400   \n",
      "\n",
      "  client_app  \n",
      "0    android  \n",
      "1        ios  \n",
      "2        web  \n",
      "3        ios  \n",
      "4    android  \n",
      "---\n"
     ]
    }
   ],
   "source": [
    "# show the first 5 lines of each dataset\n",
    "dfs = [first_pageviews, users, subscriptions]\n",
    "for df in dfs:\n",
    "    print(df.head(), end=\"\\n---\\n\")"
   ]
  },
  {
   "cell_type": "code",
   "execution_count": 68,
   "metadata": {},
   "outputs": [
    {
     "name": "stdout",
     "output_type": "stream",
     "text": [
      "date_id         datetime64[ns]\n",
      "anonymous_id            object\n",
      "exp_id                 float64\n",
      "dtype: object\n",
      "---\n",
      "anonymous_id    object\n",
      "user_id         object\n",
      "dtype: object\n",
      "---\n",
      "user_id               object\n",
      "created_at    datetime64[ns]\n",
      "client_app            object\n",
      "dtype: object\n",
      "---\n"
     ]
    }
   ],
   "source": [
    "# check the data types and set them properly for each dataset\n",
    "first_pageviews[\"date_id\"] = pd.to_datetime(first_pageviews[\"date_id\"])\n",
    "subscriptions[\"created_at\"] = pd.to_datetime(subscriptions[\"created_at\"])\n",
    "for df in dfs:\n",
    "    print(df.dtypes, end=\"\\n---\\n\")"
   ]
  },
  {
   "cell_type": "code",
   "execution_count": 69,
   "metadata": {
    "scrolled": true
   },
   "outputs": [
    {
     "data": {
      "text/plain": [
       "date_id\n",
       "2020-01-16    43732\n",
       "2020-01-17    46950\n",
       "2020-01-18    32288\n",
       "2020-01-19    34464\n",
       "2020-01-20    52184\n",
       "2020-01-21    47600\n",
       "2020-01-22    47255\n",
       "2020-01-23    48753\n",
       "2020-01-24    42981\n",
       "2020-01-25    38896\n",
       "2020-01-26    35450\n",
       "2020-01-27    51554\n",
       "2020-01-28    52380\n",
       "2020-01-29    42687\n",
       "2020-01-30    48363\n",
       "2020-01-31    48357\n",
       "2020-02-01    41166\n",
       "2020-02-02    40339\n",
       "2020-02-03    49347\n",
       "2020-02-04    46408\n",
       "2020-02-05    40654\n",
       "2020-02-06    47631\n",
       "2020-02-07    45555\n",
       "2020-02-08    38665\n",
       "2020-02-09    33122\n",
       "2020-02-10    52331\n",
       "2020-02-11    51635\n",
       "2020-02-12    40572\n",
       "2020-02-13    46190\n",
       "2020-02-14    42802\n",
       "2020-02-15    37441\n",
       "2020-02-16    38375\n",
       "2020-02-17    50122\n",
       "2020-02-18    43863\n",
       "2020-02-19    47800\n",
       "2020-02-20    48136\n",
       "2020-02-21    40440\n",
       "2020-02-22    33624\n",
       "2020-02-23    35621\n",
       "2020-02-24    54455\n",
       "2020-02-25    48973\n",
       "2020-02-26    48298\n",
       "2020-02-27    45686\n",
       "2020-02-28    41641\n",
       "2020-02-29    32782\n",
       "Name: date_id, dtype: int64"
      ]
     },
     "execution_count": 69,
     "metadata": {},
     "output_type": "execute_result"
    }
   ],
   "source": [
    "fp_grouped = (first_pageviews\n",
    "              .groupby(\"date_id\")[\"date_id\"]\n",
    "              .count())\n",
    "fp_grouped"
   ]
  },
  {
   "cell_type": "code",
   "execution_count": 126,
   "metadata": {},
   "outputs": [
    {
     "data": {
      "text/plain": [
       "<matplotlib.axes._subplots.AxesSubplot at 0x28484f8d1f0>"
      ]
     },
     "execution_count": 126,
     "metadata": {},
     "output_type": "execute_result"
    },
    {
     "data": {
      "image/png": "[encoded data removed]",
      "text/plain": [
       "<Figure size 432x288 with 1 Axes>"
      ]
     },
     "metadata": {
      "needs_background": "light"
     },
     "output_type": "display_data"
    }
   ],
   "source": [
    "# plot first pageview per day to inspect if you can spot any outliers or anything suspicious\n",
    "fp_grouped.plot()"
   ]
  },
  {
   "cell_type": "code",
   "execution_count": 71,
   "metadata": {},
   "outputs": [
    {
     "name": "stdout",
     "output_type": "stream",
     "text": [
      "138429.76\n"
     ]
    },
    {
     "data": {
      "text/plain": [
       "101.0    67887\n",
       "102.0    67715\n",
       "Name: exp_id, dtype: int64"
      ]
     },
     "execution_count": 71,
     "metadata": {},
     "output_type": "execute_result"
    }
   ],
   "source": [
    "# check the assignment into the experiment. You should see that 7% of the visitors were \n",
    "# assigned to the experiment with a 50/50 split among the two variants\n",
    "\n",
    "print(len(first_pageviews) * .07)\n",
    "\n",
    "first_pageviews[\"exp_id\"].value_counts()"
   ]
  },
  {
   "cell_type": "markdown",
   "metadata": {},
   "source": [
    "The assignment seemed to work as planned. You can now continue with the data prep.\n",
    "\n",
    "## Create experiment dataset\n",
    "\n",
    "To simplify the analysis, filter and merge the datasets to only focus on what's relevant. That is, you only care about visitors that were actually assigned to the experiment. Among those, you want to know how many subscribed. The proportion of those, for each group, is the conversion rate."
   ]
  },
  {
   "cell_type": "code",
   "execution_count": 72,
   "metadata": {},
   "outputs": [
    {
     "data": {
      "text/html": [
       "<div>\n",
       "<style scoped>\n",
       "    .dataframe tbody tr th:only-of-type {\n",
       "        vertical-align: middle;\n",
       "    }\n",
       "\n",
       "    .dataframe tbody tr th {\n",
       "        vertical-align: top;\n",
       "    }\n",
       "\n",
       "    .dataframe thead th {\n",
       "        text-align: right;\n",
       "    }\n",
       "</style>\n",
       "<table border=\"1\" class=\"dataframe\">\n",
       "  <thead>\n",
       "    <tr style=\"text-align: right;\">\n",
       "      <th></th>\n",
       "      <th>date_id</th>\n",
       "      <th>anonymous_id</th>\n",
       "      <th>exp_id</th>\n",
       "      <th>user_id</th>\n",
       "      <th>subscribed</th>\n",
       "    </tr>\n",
       "  </thead>\n",
       "  <tbody>\n",
       "    <tr>\n",
       "      <th>0</th>\n",
       "      <td>2020-02-01</td>\n",
       "      <td>c8bc65ae-e5bb-47b0-b2ba-a3e32f086c39</td>\n",
       "      <td>101.0</td>\n",
       "      <td>NaN</td>\n",
       "      <td>0</td>\n",
       "    </tr>\n",
       "    <tr>\n",
       "      <th>1</th>\n",
       "      <td>2020-02-01</td>\n",
       "      <td>5808da06-67c6-467f-bedd-aa872839ccde</td>\n",
       "      <td>101.0</td>\n",
       "      <td>NaN</td>\n",
       "      <td>0</td>\n",
       "    </tr>\n",
       "    <tr>\n",
       "      <th>2</th>\n",
       "      <td>2020-02-01</td>\n",
       "      <td>3265ddda-fefc-471f-b956-fa88b1d85e08</td>\n",
       "      <td>101.0</td>\n",
       "      <td>NaN</td>\n",
       "      <td>0</td>\n",
       "    </tr>\n",
       "    <tr>\n",
       "      <th>3</th>\n",
       "      <td>2020-02-01</td>\n",
       "      <td>0b633f23-c070-4289-b323-058c0a4105fb</td>\n",
       "      <td>101.0</td>\n",
       "      <td>NaN</td>\n",
       "      <td>0</td>\n",
       "    </tr>\n",
       "    <tr>\n",
       "      <th>4</th>\n",
       "      <td>2020-02-01</td>\n",
       "      <td>72c9c459-ae27-407a-a257-901678774df2</td>\n",
       "      <td>101.0</td>\n",
       "      <td>NaN</td>\n",
       "      <td>0</td>\n",
       "    </tr>\n",
       "    <tr>\n",
       "      <th>...</th>\n",
       "      <td>...</td>\n",
       "      <td>...</td>\n",
       "      <td>...</td>\n",
       "      <td>...</td>\n",
       "      <td>...</td>\n",
       "    </tr>\n",
       "    <tr>\n",
       "      <th>135597</th>\n",
       "      <td>2020-02-29</td>\n",
       "      <td>1a58f77c-39ce-4aa7-ba43-92857081c8ea</td>\n",
       "      <td>102.0</td>\n",
       "      <td>NaN</td>\n",
       "      <td>0</td>\n",
       "    </tr>\n",
       "    <tr>\n",
       "      <th>135598</th>\n",
       "      <td>2020-02-29</td>\n",
       "      <td>69dee06a-03b5-46b5-b5b7-480790769ef2</td>\n",
       "      <td>102.0</td>\n",
       "      <td>NaN</td>\n",
       "      <td>0</td>\n",
       "    </tr>\n",
       "    <tr>\n",
       "      <th>135599</th>\n",
       "      <td>2020-02-29</td>\n",
       "      <td>df28818f-57af-4dbb-a3df-8f0f68dee469</td>\n",
       "      <td>102.0</td>\n",
       "      <td>NaN</td>\n",
       "      <td>0</td>\n",
       "    </tr>\n",
       "    <tr>\n",
       "      <th>135600</th>\n",
       "      <td>2020-02-29</td>\n",
       "      <td>38b75810-513e-4b7b-a1cf-71cd37ae203d</td>\n",
       "      <td>102.0</td>\n",
       "      <td>NaN</td>\n",
       "      <td>0</td>\n",
       "    </tr>\n",
       "    <tr>\n",
       "      <th>135601</th>\n",
       "      <td>2020-02-29</td>\n",
       "      <td>0e6b1f15-5419-449d-ad8d-a9cceb72a44b</td>\n",
       "      <td>102.0</td>\n",
       "      <td>NaN</td>\n",
       "      <td>0</td>\n",
       "    </tr>\n",
       "  </tbody>\n",
       "</table>\n",
       "<p>135602 rows × 5 columns</p>\n",
       "</div>"
      ],
      "text/plain": [
       "          date_id                          anonymous_id  exp_id user_id  \\\n",
       "0      2020-02-01  c8bc65ae-e5bb-47b0-b2ba-a3e32f086c39   101.0     NaN   \n",
       "1      2020-02-01  5808da06-67c6-467f-bedd-aa872839ccde   101.0     NaN   \n",
       "2      2020-02-01  3265ddda-fefc-471f-b956-fa88b1d85e08   101.0     NaN   \n",
       "3      2020-02-01  0b633f23-c070-4289-b323-058c0a4105fb   101.0     NaN   \n",
       "4      2020-02-01  72c9c459-ae27-407a-a257-901678774df2   101.0     NaN   \n",
       "...           ...                                   ...     ...     ...   \n",
       "135597 2020-02-29  1a58f77c-39ce-4aa7-ba43-92857081c8ea   102.0     NaN   \n",
       "135598 2020-02-29  69dee06a-03b5-46b5-b5b7-480790769ef2   102.0     NaN   \n",
       "135599 2020-02-29  df28818f-57af-4dbb-a3df-8f0f68dee469   102.0     NaN   \n",
       "135600 2020-02-29  38b75810-513e-4b7b-a1cf-71cd37ae203d   102.0     NaN   \n",
       "135601 2020-02-29  0e6b1f15-5419-449d-ad8d-a9cceb72a44b   102.0     NaN   \n",
       "\n",
       "        subscribed  \n",
       "0                0  \n",
       "1                0  \n",
       "2                0  \n",
       "3                0  \n",
       "4                0  \n",
       "...            ...  \n",
       "135597           0  \n",
       "135598           0  \n",
       "135599           0  \n",
       "135600           0  \n",
       "135601           0  \n",
       "\n",
       "[135602 rows x 5 columns]"
      ]
     },
     "execution_count": 72,
     "metadata": {},
     "output_type": "execute_result"
    }
   ],
   "source": [
    "# merge the tables so you can see all visitors assigned to the experiment \n",
    "# and whether they subscribed or not\n",
    "# create a dummy column for whether a user subscribed or not\n",
    "\n",
    "first_pageviews = first_pageviews.dropna()\n",
    "\n",
    "combi = (first_pageviews\n",
    "         .merge(users, how=\"left\", on=\"anonymous_id\"))\n",
    "combi[\"subscribed\"] = np.where(combi[\"user_id\"].isna(), \n",
    "                               0, 1)\n",
    "combi"
   ]
  },
  {
   "cell_type": "markdown",
   "metadata": {},
   "source": [
    "## Inspect experiment data\n",
    "\n",
    "Before running the test, you want to spend some time checking the data you collected."
   ]
  },
  {
   "cell_type": "code",
   "execution_count": 73,
   "metadata": {},
   "outputs": [
    {
     "data": {
      "text/plain": [
       "<matplotlib.axes._subplots.AxesSubplot at 0x284ff65c130>"
      ]
     },
     "execution_count": 73,
     "metadata": {},
     "output_type": "execute_result"
    },
    {
     "data": {
      "image/png": "[encoded data removed]",
      "text/plain": [
       "<Figure size 720x432 with 1 Axes>"
      ]
     },
     "metadata": {
      "needs_background": "light"
     },
     "output_type": "display_data"
    }
   ],
   "source": [
    "# plot a timeseries of daily visitors that were assigned to an experiment\n",
    "# plot a line for each exp_id\n",
    "exp1 = (combi[combi[\"exp_id\"] == 101.0]\n",
    "        .groupby(\"date_id\")[[\"date_id\"]]\n",
    "        .count()\n",
    "        .rename(columns={\"date_id\": \"exp1 count\"}))\n",
    "exp2 = (combi[combi[\"exp_id\"] == 102.0]\n",
    "        .groupby(\"date_id\")[[\"date_id\"]]\n",
    "        .count()\n",
    "        .rename(columns={\"date_id\": \"exp2 count\"}))\n",
    "\n",
    "fig, ax = plt.subplots(figsize=(10, 6))\n",
    "exp1.plot(kind=\"line\", ax=ax)\n",
    "exp2.plot(kind=\"line\", ax=ax)"
   ]
  },
  {
   "cell_type": "code",
   "execution_count": 10,
   "metadata": {},
   "outputs": [],
   "source": [
    "# does the time range match the experiment requirements?\n",
    "# yes\n",
    "# Do the lines indicate an equal assignment over time?\n",
    "# yes"
   ]
  },
  {
   "cell_type": "markdown",
   "metadata": {},
   "source": [
    "## Describing the data\n",
    "\n",
    "Compute the differences among the groups, before running a statistical test"
   ]
  },
  {
   "cell_type": "code",
   "execution_count": 127,
   "metadata": {},
   "outputs": [
    {
     "data": {
      "text/plain": [
       "exp_id\n",
       "101.0    493\n",
       "102.0    535\n",
       "Name: subscribed, dtype: int64"
      ]
     },
     "execution_count": 127,
     "metadata": {},
     "output_type": "execute_result"
    }
   ],
   "source": [
    "# compute the number of conversion for each experiment group\n",
    "rates = (combi\n",
    "         .groupby(\"exp_id\")[\"subscribed\"]\n",
    "         .sum()\n",
    "         .astype(\"int64\"))\n",
    "rates"
   ]
  },
  {
   "cell_type": "code",
   "execution_count": 75,
   "metadata": {},
   "outputs": [
    {
     "name": "stdout",
     "output_type": "stream",
     "text": [
      "Conversion rate: 0.007262067848041598\n",
      "Conversion rate: 0.007900760540500628\n"
     ]
    }
   ],
   "source": [
    "# compute the conversion rate for each experiment group\n",
    "cr_1 = rates.iloc[0] / int(exp1.sum())\n",
    "cr_2 = rates.iloc[1] / int(exp2.sum())\n",
    "\n",
    "for cr in [cr_1, cr_2]:\n",
    "    print(f\"Conversion rate: {cr}\")"
   ]
  },
  {
   "cell_type": "code",
   "execution_count": 13,
   "metadata": {},
   "outputs": [],
   "source": [
    "# interpret the results. From just looking at the numbers, which group performed better \n",
    "# with respect to conversions or conversion rates?\n",
    "# Group 102 performed better"
   ]
  },
  {
   "cell_type": "markdown",
   "metadata": {},
   "source": [
    "You should see that there is a difference in the conversion rate across the different experiment groups.\n",
    "\n",
    "Are there any differences among the subscibers for each group with respect to the client application they signed up through?"
   ]
  },
  {
   "cell_type": "code",
   "execution_count": 84,
   "metadata": {},
   "outputs": [],
   "source": [
    "# Compute relative frequency for each client_app through which they subscribed in each experiment group\n",
    "app = (combi\n",
    "       .merge(subscriptions, how=\"left\", on=\"user_id\"))"
   ]
  },
  {
   "cell_type": "code",
   "execution_count": 90,
   "metadata": {},
   "outputs": [
    {
     "data": {
      "text/html": [
       "<div>\n",
       "<style scoped>\n",
       "    .dataframe tbody tr th:only-of-type {\n",
       "        vertical-align: middle;\n",
       "    }\n",
       "\n",
       "    .dataframe tbody tr th {\n",
       "        vertical-align: top;\n",
       "    }\n",
       "\n",
       "    .dataframe thead th {\n",
       "        text-align: right;\n",
       "    }\n",
       "</style>\n",
       "<table border=\"1\" class=\"dataframe\">\n",
       "  <thead>\n",
       "    <tr style=\"text-align: right;\">\n",
       "      <th></th>\n",
       "      <th>anonymous</th>\n",
       "      <th>subscribed</th>\n",
       "      <th>android</th>\n",
       "      <th>ios</th>\n",
       "      <th>web</th>\n",
       "      <th>cr_android</th>\n",
       "      <th>cr_ios</th>\n",
       "      <th>cr_web</th>\n",
       "    </tr>\n",
       "  </thead>\n",
       "  <tbody>\n",
       "    <tr>\n",
       "      <th>101</th>\n",
       "      <td>67887</td>\n",
       "      <td>493</td>\n",
       "      <td>105</td>\n",
       "      <td>135</td>\n",
       "      <td>253</td>\n",
       "      <td>0.212982</td>\n",
       "      <td>0.273834</td>\n",
       "      <td>0.513185</td>\n",
       "    </tr>\n",
       "    <tr>\n",
       "      <th>102</th>\n",
       "      <td>67715</td>\n",
       "      <td>535</td>\n",
       "      <td>107</td>\n",
       "      <td>161</td>\n",
       "      <td>267</td>\n",
       "      <td>0.200000</td>\n",
       "      <td>0.300935</td>\n",
       "      <td>0.499065</td>\n",
       "    </tr>\n",
       "  </tbody>\n",
       "</table>\n",
       "</div>"
      ],
      "text/plain": [
       "     anonymous  subscribed  android  ios  web  cr_android    cr_ios    cr_web\n",
       "101      67887         493      105  135  253    0.212982  0.273834  0.513185\n",
       "102      67715         535      107  161  267    0.200000  0.300935  0.499065"
      ]
     },
     "execution_count": 90,
     "metadata": {},
     "output_type": "execute_result"
    }
   ],
   "source": [
    "exps = [101.0, 102.0]\n",
    "\n",
    "def conv_abs(df, exp):\n",
    "    select = df[df[\"exp_id\"] == exp]\n",
    "    anony = len(select)\n",
    "    subs = len(select[select[\"subscribed\"] == 1])\n",
    "    a, i, w = list(select[select[\"subscribed\"] == 1]\n",
    "                   .groupby(\"client_app\")[\"user_id\"]\n",
    "                   .count()\n",
    "                   .sort_index())\n",
    "    cr_a, cr_i, cr_w = [x / subs for x in [a, i, w]]\n",
    "    \n",
    "    return [anony, subs, a, i, w, cr_a, cr_i, cr_w]\n",
    " \n",
    "cols = ['anonymous', 'subscribed', \n",
    "        'android', 'ios', 'web', \n",
    "        'cr_android', 'cr_ios', 'cr_web']\n",
    "conv_app = pd.DataFrame([conv_abs(app, 101.0), \n",
    "                         conv_abs(app, 102.0)], \n",
    "                        columns=cols,\n",
    "                        index=[101, 102])\n",
    "conv_app"
   ]
  },
  {
   "cell_type": "code",
   "execution_count": 17,
   "metadata": {},
   "outputs": [
    {
     "data": {
      "text/plain": [
       "'The conversion via web is a lot higher than via the apps. \\nThe 102 group had nearly 10% more subscriptions. Of those extra \\nsubscriptions expecially iOS and web are more popular. Group \\n102 is smaller tho.'"
      ]
     },
     "execution_count": 17,
     "metadata": {},
     "output_type": "execute_result"
    }
   ],
   "source": [
    "# interpret and discuss the results\n",
    "\"\"\"The conversion via web is a lot higher than via the apps. \n",
    "The 102 group had nearly 10% more subscriptions. Of those extra \n",
    "subscriptions expecially iOS and web are more popular. Group \n",
    "102 is smaller tho.\"\"\""
   ]
  },
  {
   "cell_type": "markdown",
   "metadata": {},
   "source": [
    "## Test whether the difference in conversion rate is significant\n",
    "\n",
    "It is time for the statistical test!"
   ]
  },
  {
   "cell_type": "code",
   "execution_count": 17,
   "metadata": {},
   "outputs": [],
   "source": [
    "# compute the two arrays/series to be passed to the t-test\n",
    "no = app.loc[app[\"exp_id\"] == 101.0, \"subscribed\"]\n",
    "yes = app.loc[app[\"exp_id\"] == 102.0, \"subscribed\"]"
   ]
  },
  {
   "cell_type": "code",
   "execution_count": 18,
   "metadata": {},
   "outputs": [
    {
     "name": "stdout",
     "output_type": "stream",
     "text": [
      "-1.3556897749411265\n",
      "0.17520015633882965\n"
     ]
    }
   ],
   "source": [
    "# run the test and compute the p-value, without the equal variance assumption\n",
    "t,p = scipy.stats.ttest_ind(no, yes, equal_var=False)\n",
    "print(t)\n",
    "print(p)"
   ]
  },
  {
   "cell_type": "code",
   "execution_count": 20,
   "metadata": {},
   "outputs": [],
   "source": [
    "# Write up your conclusion and discuss\n",
    "# Since the p value is quite high, the difference does not appear to be significant."
   ]
  },
  {
   "cell_type": "markdown",
   "metadata": {},
   "source": [
    "The experiment unfortunately did not result in a significant difference among the two groups. That is, you cannot conclude that the upsells were in fact improving the conversion rates. You still doubt whether you've done everything in the right way. \n",
    "\n",
    "During a coffee break, you overheard some colleague talking about how they are contemplating about getting newspaper subscription. They said they have been going to the newspaper website a few times already but they're not sure if they're willing to pay the price. You start thinking that you were maybe a little to rushed with starting the analysis on the first day after the experiment ended. It might take some time for people to subscribe after the first pageview..."
   ]
  },
  {
   "cell_type": "code",
   "execution_count": 103,
   "metadata": {},
   "outputs": [
    {
     "data": {
      "text/plain": [
       "Timestamp('2020-02-29 23:58:41.641215300')"
      ]
     },
     "execution_count": 103,
     "metadata": {},
     "output_type": "execute_result"
    }
   ],
   "source": [
    "# check the latest date a subscription was registered\n",
    "subscriptions[\"created_at\"].max()"
   ]
  },
  {
   "cell_type": "code",
   "execution_count": 106,
   "metadata": {},
   "outputs": [
    {
     "data": {
      "text/plain": [
       "count    1028.000000\n",
       "mean        4.480545\n",
       "std         4.774834\n",
       "min         0.000000\n",
       "25%         1.000000\n",
       "50%         3.000000\n",
       "75%         7.000000\n",
       "max        28.000000\n",
       "Name: wait, dtype: float64"
      ]
     },
     "execution_count": 106,
     "metadata": {},
     "output_type": "execute_result"
    }
   ],
   "source": [
    "# Using the Five-number summary, check how long it takes for users to subscribe after their first visit\n",
    "app[\"wait\"] = app[\"created_at\"].dt.day - app[\"date_id\"].dt.day\n",
    "app[\"wait\"].describe()"
   ]
  },
  {
   "cell_type": "code",
   "execution_count": 23,
   "metadata": {},
   "outputs": [],
   "source": [
    "# What is flawed when computing the five-number summary using this sample?\n",
    "# There is a cutoff at the end of the month, not allowing all users to subscribe."
   ]
  },
  {
   "cell_type": "markdown",
   "metadata": {},
   "source": [
    "## Considering time it takes to subscribe\n",
    "\n",
    "The team decides to wait for the analysis until the end of the month to allow users to subscribe. On April 1st, the Product Manager approaches you with even more excitement and pushes you to redo the analysis.\n",
    "\n",
    "The data for the additional subscribers that signed up between the day of your first analysis and today can be found in `data/2020-04-01/`.\n",
    "\n",
    "**Important:** The new data does not include any of the data that were included in the previous datasets."
   ]
  },
  {
   "cell_type": "code",
   "execution_count": 117,
   "metadata": {},
   "outputs": [],
   "source": [
    "# load the newest data for subscriptions and their corresponding mapping in the users dataset\n",
    "april = [\"subscriptions_apr01\", \"users_apr01\"]\n",
    "apr_sub = load_csv(april[0], 4)\n",
    "apr_users = load_csv(april[1], 4)\n",
    "apr_sub[\"created_at\"] = pd.to_datetime(apr_sub[\"created_at\"])"
   ]
  },
  {
   "cell_type": "code",
   "execution_count": 118,
   "metadata": {},
   "outputs": [],
   "source": [
    "apr_users = pd.concat([users, apr_users])\n",
    "apr_sub = pd.concat([subscriptions, apr_sub])"
   ]
  },
  {
   "cell_type": "code",
   "execution_count": 119,
   "metadata": {},
   "outputs": [
    {
     "data": {
      "text/html": [
       "<div>\n",
       "<style scoped>\n",
       "    .dataframe tbody tr th:only-of-type {\n",
       "        vertical-align: middle;\n",
       "    }\n",
       "\n",
       "    .dataframe tbody tr th {\n",
       "        vertical-align: top;\n",
       "    }\n",
       "\n",
       "    .dataframe thead th {\n",
       "        text-align: right;\n",
       "    }\n",
       "</style>\n",
       "<table border=\"1\" class=\"dataframe\">\n",
       "  <thead>\n",
       "    <tr style=\"text-align: right;\">\n",
       "      <th></th>\n",
       "      <th>date_id</th>\n",
       "      <th>anonymous_id</th>\n",
       "      <th>exp_id</th>\n",
       "      <th>user_id</th>\n",
       "      <th>subscribed</th>\n",
       "      <th>created_at</th>\n",
       "      <th>client_app</th>\n",
       "    </tr>\n",
       "  </thead>\n",
       "  <tbody>\n",
       "    <tr>\n",
       "      <th>0</th>\n",
       "      <td>2020-02-01</td>\n",
       "      <td>c8bc65ae-e5bb-47b0-b2ba-a3e32f086c39</td>\n",
       "      <td>101.0</td>\n",
       "      <td>NaN</td>\n",
       "      <td>0</td>\n",
       "      <td>NaT</td>\n",
       "      <td>NaN</td>\n",
       "    </tr>\n",
       "    <tr>\n",
       "      <th>1</th>\n",
       "      <td>2020-02-01</td>\n",
       "      <td>5808da06-67c6-467f-bedd-aa872839ccde</td>\n",
       "      <td>101.0</td>\n",
       "      <td>NaN</td>\n",
       "      <td>0</td>\n",
       "      <td>NaT</td>\n",
       "      <td>NaN</td>\n",
       "    </tr>\n",
       "    <tr>\n",
       "      <th>2</th>\n",
       "      <td>2020-02-01</td>\n",
       "      <td>3265ddda-fefc-471f-b956-fa88b1d85e08</td>\n",
       "      <td>101.0</td>\n",
       "      <td>NaN</td>\n",
       "      <td>0</td>\n",
       "      <td>NaT</td>\n",
       "      <td>NaN</td>\n",
       "    </tr>\n",
       "    <tr>\n",
       "      <th>3</th>\n",
       "      <td>2020-02-01</td>\n",
       "      <td>0b633f23-c070-4289-b323-058c0a4105fb</td>\n",
       "      <td>101.0</td>\n",
       "      <td>NaN</td>\n",
       "      <td>0</td>\n",
       "      <td>NaT</td>\n",
       "      <td>NaN</td>\n",
       "    </tr>\n",
       "    <tr>\n",
       "      <th>4</th>\n",
       "      <td>2020-02-01</td>\n",
       "      <td>72c9c459-ae27-407a-a257-901678774df2</td>\n",
       "      <td>101.0</td>\n",
       "      <td>NaN</td>\n",
       "      <td>0</td>\n",
       "      <td>NaT</td>\n",
       "      <td>NaN</td>\n",
       "    </tr>\n",
       "  </tbody>\n",
       "</table>\n",
       "</div>"
      ],
      "text/plain": [
       "     date_id                          anonymous_id  exp_id user_id  \\\n",
       "0 2020-02-01  c8bc65ae-e5bb-47b0-b2ba-a3e32f086c39   101.0     NaN   \n",
       "1 2020-02-01  5808da06-67c6-467f-bedd-aa872839ccde   101.0     NaN   \n",
       "2 2020-02-01  3265ddda-fefc-471f-b956-fa88b1d85e08   101.0     NaN   \n",
       "3 2020-02-01  0b633f23-c070-4289-b323-058c0a4105fb   101.0     NaN   \n",
       "4 2020-02-01  72c9c459-ae27-407a-a257-901678774df2   101.0     NaN   \n",
       "\n",
       "   subscribed created_at client_app  \n",
       "0           0        NaT        NaN  \n",
       "1           0        NaT        NaN  \n",
       "2           0        NaT        NaN  \n",
       "3           0        NaT        NaN  \n",
       "4           0        NaT        NaN  "
      ]
     },
     "execution_count": 119,
     "metadata": {},
     "output_type": "execute_result"
    }
   ],
   "source": [
    "# combine the newest data with the existing datasets\n",
    "apr_combi = first_pageviews.merge(apr_users, how=\"left\", on=\"anonymous_id\")\n",
    "apr_combi[\"subscribed\"] = np.where(apr_combi[\"user_id\"].isna(), 0, 1)\n",
    "apr_app = apr_combi.merge(apr_sub, how=\"left\", on=\"user_id\")\n",
    "apr_app.head()"
   ]
  },
  {
   "cell_type": "code",
   "execution_count": 120,
   "metadata": {},
   "outputs": [
    {
     "data": {
      "text/html": [
       "<div>\n",
       "<style scoped>\n",
       "    .dataframe tbody tr th:only-of-type {\n",
       "        vertical-align: middle;\n",
       "    }\n",
       "\n",
       "    .dataframe tbody tr th {\n",
       "        vertical-align: top;\n",
       "    }\n",
       "\n",
       "    .dataframe thead th {\n",
       "        text-align: right;\n",
       "    }\n",
       "</style>\n",
       "<table border=\"1\" class=\"dataframe\">\n",
       "  <thead>\n",
       "    <tr style=\"text-align: right;\">\n",
       "      <th></th>\n",
       "      <th>anonymous</th>\n",
       "      <th>subscribed</th>\n",
       "      <th>android</th>\n",
       "      <th>ios</th>\n",
       "      <th>web</th>\n",
       "      <th>cr_android</th>\n",
       "      <th>cr_ios</th>\n",
       "      <th>cr_web</th>\n",
       "    </tr>\n",
       "  </thead>\n",
       "  <tbody>\n",
       "    <tr>\n",
       "      <th>101</th>\n",
       "      <td>67887</td>\n",
       "      <td>662</td>\n",
       "      <td>138</td>\n",
       "      <td>187</td>\n",
       "      <td>337</td>\n",
       "      <td>0.208459</td>\n",
       "      <td>0.282477</td>\n",
       "      <td>0.509063</td>\n",
       "    </tr>\n",
       "    <tr>\n",
       "      <th>102</th>\n",
       "      <td>67715</td>\n",
       "      <td>717</td>\n",
       "      <td>149</td>\n",
       "      <td>219</td>\n",
       "      <td>349</td>\n",
       "      <td>0.207810</td>\n",
       "      <td>0.305439</td>\n",
       "      <td>0.486750</td>\n",
       "    </tr>\n",
       "  </tbody>\n",
       "</table>\n",
       "</div>"
      ],
      "text/plain": [
       "     anonymous  subscribed  android  ios  web  cr_android    cr_ios    cr_web\n",
       "101      67887         662      138  187  337    0.208459  0.282477  0.509063\n",
       "102      67715         717      149  219  349    0.207810  0.305439  0.486750"
      ]
     },
     "execution_count": 120,
     "metadata": {},
     "output_type": "execute_result"
    }
   ],
   "source": [
    "# From here on, you're on your own. Redo the analysis from above with the new dataset.\n",
    "# Make sure to run a few inspections to make sure your data is how you expect it to be\n",
    "# After analyzing, provide a summary and a discussion including your communication to the Product Team\n",
    "cr_apr = pd.DataFrame([conv_abs(apr_app, 101.0), \n",
    "                       conv_abs(apr_app, 102.0)], \n",
    "                      columns=cols,\n",
    "                      index=[101, 102])\n",
    "cr_apr"
   ]
  },
  {
   "cell_type": "code",
   "execution_count": 122,
   "metadata": {},
   "outputs": [
    {
     "data": {
      "text/plain": [
       "Timestamp('2020-03-31 21:08:21.353170080')"
      ]
     },
     "execution_count": 122,
     "metadata": {},
     "output_type": "execute_result"
    }
   ],
   "source": [
    "apr_app[\"created_at\"].dropna().max()"
   ]
  },
  {
   "cell_type": "code",
   "execution_count": 125,
   "metadata": {},
   "outputs": [
    {
     "name": "stdout",
     "output_type": "stream",
     "text": [
      "t = -1.5359436402900093\n",
      "p = 0.12455454121006294\n"
     ]
    }
   ],
   "source": [
    "apr_no = apr_app.loc[apr_app[\"exp_id\"] == 101.0, \"subscribed\"]\n",
    "apr_yes = apr_app.loc[apr_app[\"exp_id\"] == 102.0, \"subscribed\"]\n",
    "t2,p2 = scipy.stats.ttest_ind(apr_no, apr_yes, equal_var=False)\n",
    "print(f\"t = {t2}\")\n",
    "print(f\"p = {p2}\")"
   ]
  },
  {
   "cell_type": "code",
   "execution_count": null,
   "metadata": {},
   "outputs": [],
   "source": []
  }
 ],
 "metadata": {
  "kernelspec": {
   "display_name": "Python 3",
   "language": "python",
   "name": "python3"
  },
  "language_info": {
   "codemirror_mode": {
    "name": "ipython",
    "version": 3
   },
   "file_extension": ".py",
   "mimetype": "text/x-python",
   "name": "python",
   "nbconvert_exporter": "python",
   "pygments_lexer": "ipython3",
   "version": "3.8.5"
  }
 },
 "nbformat": 4,
 "nbformat_minor": 2
}
