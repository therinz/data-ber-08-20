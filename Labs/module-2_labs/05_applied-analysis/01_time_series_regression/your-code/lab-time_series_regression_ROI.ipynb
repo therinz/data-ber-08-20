{
 "cells": [
  {
   "cell_type": "code",
   "execution_count": 82,
   "metadata": {},
   "outputs": [],
   "source": [
    "import os\n",
    "\n",
    "import pandas as pd\n",
    "import numpy as np\n",
    "import matplotlib\n",
    "import matplotlib.pyplot as plt\n",
    "import statsmodels.api as sm\n",
    "\n",
    "from pandas.plotting import register_matplotlib_converters\n",
    "register_matplotlib_converters()\n",
    "%matplotlib inline"
   ]
  },
  {
   "cell_type": "markdown",
   "metadata": {},
   "source": [
    "# Evaluating the success of a marketing campaign\n",
    "\n",
    "Company J (e-commerce) hired you as their first data analyst, about 3 years after they first started operations. Things are a little messy with regards to what has been tracked and what data is available. \n",
    "\n",
    "**Today's date is October 21, 2019**\n",
    "\n",
    "The Marketing team ran a 3-week campaign to attract more traffic to the online shop with the hope of increasing revenue. \n",
    "\n",
    "The campaign ran from 2019-04-08 until 2019-04-28 (inclusive).\n",
    "\n",
    "Now that the company hired you, they are interested in evaluating whether the campaign was a success or not as they're planning on running a similar one again within the next couple of months. The challenge, however, is that you only have access to pageview data for the landing page. Company J has worked with a data consultancy in the past and they were able to provide some estimates with regards to conversions that you can find below.\n",
    "\n",
    "The goal of this lab is to guide you through working with vague requirements from stakeholders and only a handful of information. You start by taking a first look at the data to see if you can visually spot any meaningful variations. Following that, you are going to attempt to quantify the impact of the marketing campaign. Once you have some numbers, you will get access to a handful of additional data points that will support you in your conclusion. At the end, you will discuss your recommendation to the Marketing team with regards to the assumptions you had to make to get to your conclusion.\n",
    "\n",
    "Plan:\n",
    "\n",
    "1. Load and inspect the data\n",
    "2. Estimate the pageviews without campaign\n",
    "3. Compute difference in estimated (predicted) pageviews and actual pageviews\n",
    "4. Use data points provided by data consultancy to estimate ROI (return on investment)\n",
    "5. Conclude success of campaign"
   ]
  },
  {
   "cell_type": "markdown",
   "metadata": {},
   "source": [
    "## 1. Load and inspect data"
   ]
  },
  {
   "cell_type": "code",
   "execution_count": 16,
   "metadata": {},
   "outputs": [
    {
     "data": {
      "text/html": [
       "<div>\n",
       "<style scoped>\n",
       "    .dataframe tbody tr th:only-of-type {\n",
       "        vertical-align: middle;\n",
       "    }\n",
       "\n",
       "    .dataframe tbody tr th {\n",
       "        vertical-align: top;\n",
       "    }\n",
       "\n",
       "    .dataframe thead th {\n",
       "        text-align: right;\n",
       "    }\n",
       "</style>\n",
       "<table border=\"1\" class=\"dataframe\">\n",
       "  <thead>\n",
       "    <tr style=\"text-align: right;\">\n",
       "      <th></th>\n",
       "      <th>date_id</th>\n",
       "      <th>page_name</th>\n",
       "      <th>pageviews</th>\n",
       "    </tr>\n",
       "  </thead>\n",
       "  <tbody>\n",
       "    <tr>\n",
       "      <th>0</th>\n",
       "      <td>2018-12-31</td>\n",
       "      <td>landing_page</td>\n",
       "      <td>302878752</td>\n",
       "    </tr>\n",
       "    <tr>\n",
       "      <th>1</th>\n",
       "      <td>2019-01-01</td>\n",
       "      <td>landing_page</td>\n",
       "      <td>312601914</td>\n",
       "    </tr>\n",
       "    <tr>\n",
       "      <th>2</th>\n",
       "      <td>2019-01-02</td>\n",
       "      <td>landing_page</td>\n",
       "      <td>326949126</td>\n",
       "    </tr>\n",
       "    <tr>\n",
       "      <th>3</th>\n",
       "      <td>2019-01-03</td>\n",
       "      <td>landing_page</td>\n",
       "      <td>321689932</td>\n",
       "    </tr>\n",
       "    <tr>\n",
       "      <th>4</th>\n",
       "      <td>2019-01-04</td>\n",
       "      <td>landing_page</td>\n",
       "      <td>315004706</td>\n",
       "    </tr>\n",
       "  </tbody>\n",
       "</table>\n",
       "</div>"
      ],
      "text/plain": [
       "      date_id     page_name  pageviews\n",
       "0  2018-12-31  landing_page  302878752\n",
       "1  2019-01-01  landing_page  312601914\n",
       "2  2019-01-02  landing_page  326949126\n",
       "3  2019-01-03  landing_page  321689932\n",
       "4  2019-01-04  landing_page  315004706"
      ]
     },
     "execution_count": 16,
     "metadata": {},
     "output_type": "execute_result"
    }
   ],
   "source": [
    "# load the csv into a pd.Dataframe and show a preview of the first rows\n",
    "df = pd.read_csv(os.path.join(\"..\", \"data\", \"daily_pageviews.csv\"))\n",
    "df.head()"
   ]
  },
  {
   "cell_type": "code",
   "execution_count": 3,
   "metadata": {},
   "outputs": [
    {
     "data": {
      "text/plain": [
       "date_id      object\n",
       "page_name    object\n",
       "pageviews     int64\n",
       "dtype: object"
      ]
     },
     "execution_count": 3,
     "metadata": {},
     "output_type": "execute_result"
    }
   ],
   "source": [
    "# check dtypes\n",
    "df.dtypes"
   ]
  },
  {
   "cell_type": "code",
   "execution_count": 17,
   "metadata": {},
   "outputs": [],
   "source": [
    "# convert `date_id` to a datetime type\n",
    "df[\"date_id\"] = pd.to_datetime(df[\"date_id\"])"
   ]
  },
  {
   "cell_type": "code",
   "execution_count": 6,
   "metadata": {},
   "outputs": [],
   "source": [
    "# set variables for the campaign start and end date as datetimes\n",
    "campaign_start = pd.to_datetime(\"2019-04-08\")\n",
    "campaign_end = pd.to_datetime(\"2019-04-28\")"
   ]
  },
  {
   "cell_type": "code",
   "execution_count": 19,
   "metadata": {},
   "outputs": [
    {
     "data": {
      "text/plain": [
       "<matplotlib.lines.Line2D at 0x1827e3f85e0>"
      ]
     },
     "execution_count": 19,
     "metadata": {},
     "output_type": "execute_result"
    },
    {
     "data": {
      "image/png": "[encoded data removed]",
      "text/plain": [
       "<Figure size 432x288 with 1 Axes>"
      ]
     },
     "metadata": {
      "needs_background": "light"
     },
     "output_type": "display_data"
    }
   ],
   "source": [
    "# plot daily pageview\n",
    "ax = df.plot(x=\"date_id\", y=\"pageviews\", kind=\"line\")\n",
    "# add vertical lines in red according to the start date and end date of the marketing campaign\n",
    "ax.axvline(campaign_start, color=\"r\")\n",
    "ax.axvline(campaign_end, color=\"r\")"
   ]
  },
  {
   "cell_type": "markdown",
   "metadata": {},
   "source": [
    "You should be able to visually detect a slight difference between the days during campaign and the surrounding days. However, there is too much noise on the graph when using daily resolution, so you want to look at weekly data.\n",
    "\n",
    "To do so, you have to group your dataset by weeks and sum over pageview to get weekly pageviews.\n",
    "\n",
    "**I. Create a new column with each date truncated to the first day of a week (Mo)**\n",
    "1. For each `date_id`, retrieve the day of week as an `int`\n",
    "2. Convert that `int` into a `Timedelta` type and specify to interpret the value as Days\n",
    "3. Subtract that `Timedelta` from the `date_id`"
   ]
  },
  {
   "cell_type": "code",
   "execution_count": 45,
   "metadata": {},
   "outputs": [
    {
     "data": {
      "text/plain": [
       "0      0\n",
       "1      1\n",
       "2      2\n",
       "3      3\n",
       "4      4\n",
       "      ..\n",
       "289    2\n",
       "290    3\n",
       "291    4\n",
       "292    5\n",
       "293    6\n",
       "Name: day_of_week, Length: 294, dtype: int64"
      ]
     },
     "execution_count": 45,
     "metadata": {},
     "output_type": "execute_result"
    }
   ],
   "source": [
    "# 1. For each `date_id`, retrieve the day in week as an `int` and store it in a column `day_of_week`\n",
    "# For example, if `date_id = 2019-01-01`, then `day_of_week = 2 (or 1)` # for Tuesday\n",
    "df[\"day_of_week\"] = df[\"date_id\"].dt.dayofweek\n",
    "df[\"day_of_week\"]"
   ]
  },
  {
   "cell_type": "code",
   "execution_count": 46,
   "metadata": {},
   "outputs": [],
   "source": [
    "# 2. Convert `day_of_week` into a `Timedelta` type\n",
    "df[\"day_of_week\"] = pd.to_timedelta(df[\"day_of_week\"], unit=\"days\")"
   ]
  },
  {
   "cell_type": "code",
   "execution_count": 48,
   "metadata": {},
   "outputs": [],
   "source": [
    "# 3. Subtract `day_of_week` from `date_id` and assign it as a new column `week_id`\n",
    "# validate that you successfully truncated all `date_id`s to the first day of each week\n",
    "df[\"week_id\"] = df[\"date_id\"]- df[\"day_of_week\"]"
   ]
  },
  {
   "cell_type": "markdown",
   "metadata": {},
   "source": [
    "**II. Group by `week_id`**"
   ]
  },
  {
   "cell_type": "code",
   "execution_count": 52,
   "metadata": {},
   "outputs": [
    {
     "data": {
      "text/html": [
       "<div>\n",
       "<style scoped>\n",
       "    .dataframe tbody tr th:only-of-type {\n",
       "        vertical-align: middle;\n",
       "    }\n",
       "\n",
       "    .dataframe tbody tr th {\n",
       "        vertical-align: top;\n",
       "    }\n",
       "\n",
       "    .dataframe thead th {\n",
       "        text-align: right;\n",
       "    }\n",
       "</style>\n",
       "<table border=\"1\" class=\"dataframe\">\n",
       "  <thead>\n",
       "    <tr style=\"text-align: right;\">\n",
       "      <th></th>\n",
       "      <th>pageviews</th>\n",
       "    </tr>\n",
       "    <tr>\n",
       "      <th>week_id</th>\n",
       "      <th></th>\n",
       "    </tr>\n",
       "  </thead>\n",
       "  <tbody>\n",
       "    <tr>\n",
       "      <th>2018-12-31</th>\n",
       "      <td>2229451188</td>\n",
       "    </tr>\n",
       "    <tr>\n",
       "      <th>2019-01-07</th>\n",
       "      <td>2239288163</td>\n",
       "    </tr>\n",
       "    <tr>\n",
       "      <th>2019-01-14</th>\n",
       "      <td>2253536634</td>\n",
       "    </tr>\n",
       "    <tr>\n",
       "      <th>2019-01-21</th>\n",
       "      <td>2199428967</td>\n",
       "    </tr>\n",
       "    <tr>\n",
       "      <th>2019-01-28</th>\n",
       "      <td>2106553018</td>\n",
       "    </tr>\n",
       "  </tbody>\n",
       "</table>\n",
       "</div>"
      ],
      "text/plain": [
       "             pageviews\n",
       "week_id               \n",
       "2018-12-31  2229451188\n",
       "2019-01-07  2239288163\n",
       "2019-01-14  2253536634\n",
       "2019-01-21  2199428967\n",
       "2019-01-28  2106553018"
      ]
     },
     "execution_count": 52,
     "metadata": {},
     "output_type": "execute_result"
    }
   ],
   "source": [
    "# Sum `pageviews` for each `week_id` and assign to a new DataFrame called `df_weekly`\n",
    "df_weekly = df.groupby(\"week_id\").sum(\"pageviews\")\n",
    "df_weekly.head()"
   ]
  },
  {
   "cell_type": "markdown",
   "metadata": {},
   "source": [
    "**III. Plot weekly pageviews**"
   ]
  },
  {
   "cell_type": "code",
   "execution_count": 55,
   "metadata": {},
   "outputs": [
    {
     "data": {
      "text/plain": [
       "<matplotlib.lines.Line2D at 0x1827e309bb0>"
      ]
     },
     "execution_count": 55,
     "metadata": {},
     "output_type": "execute_result"
    },
    {
     "data": {
      "image/png": "[encoded data removed]",
      "text/plain": [
       "<Figure size 432x288 with 1 Axes>"
      ]
     },
     "metadata": {
      "needs_background": "light"
     },
     "output_type": "display_data"
    }
   ],
   "source": [
    "# plot weekly pageview\n",
    "ax = df_weekly.plot(y=\"pageviews\", kind=\"line\")\n",
    "# add vertical lines in red according to the start date and end date of the marketing campaign\n",
    "ax.axvline(campaign_start, color=\"r\")\n",
    "ax.axvline(campaign_end, color=\"r\")"
   ]
  },
  {
   "cell_type": "markdown",
   "metadata": {},
   "source": [
    "If you re-used the vertical lines from above, you notice that they might not do the best job in framing the area of the campaign. Move the vertical lines 1 week further apart."
   ]
  },
  {
   "cell_type": "code",
   "execution_count": 59,
   "metadata": {},
   "outputs": [
    {
     "data": {
      "text/plain": [
       "<matplotlib.lines.Line2D at 0x1827e6b9850>"
      ]
     },
     "execution_count": 59,
     "metadata": {},
     "output_type": "execute_result"
    },
    {
     "data": {
      "image/png": "[encoded data removed]",
      "text/plain": [
       "<Figure size 432x288 with 1 Axes>"
      ]
     },
     "metadata": {
      "needs_background": "light"
     },
     "output_type": "display_data"
    }
   ],
   "source": [
    "# move the vertical lines so that they frame the campaign date range\n",
    "ax = df_weekly.plot(y=\"pageviews\", kind=\"line\")\n",
    "# add vertical lines in red according to the start date and end date of the marketing campaign\n",
    "campaign_start = pd.to_datetime(\"2019-04-01\")\n",
    "ax.axvline(campaign_start, color=\"r\")\n",
    "ax.axvline(campaign_end, color=\"r\")"
   ]
  },
  {
   "cell_type": "markdown",
   "metadata": {},
   "source": [
    "Better! After lowering the resolution to weekly precision, it is easier for us to detect the campaign. Visually, it did result in an increase in pageviews. In order for us to conclude, however, whether the campaign was a success or not, we need to estimate the impact.\n",
    "\n",
    "<!-- Estimating the impact of something that has happened in the past always comes with a lot of uncertainties. There are mulitple approaches to tackle that problem, none of them, however, allow you to draw conclusions about causality. -->\n",
    "\n",
    "One approach to estimate the impact is to (1.) estimate the number of pageviews company J would have had without the campaign to then (2.) subtract the actual observed pageviews from that estimate.\n",
    "In the following, you are going to tackle (1.) using Linear Regression. Linear Regression allows us to fit a line through the observed data points. That line can serve as an estimate for (1.).\n",
    "\n",
    "## 2. Estimate Pageviews without campaign\n",
    "\n",
    "In your first attempt, you are trying to estimate the number of weekly pageviews as a linear function dependent on time. \n",
    "\n",
    "That is: $\\hat{pageviews_t} = \\hat{const} + t*\\hat{time},    t \\epsilon \\{1, \\dots, T\\}$\n",
    "\n",
    "You will be using OLS to find your best estimate for the unknown $time$ and $const$ coefficients. \n",
    "\n",
    "Before you start though, you need to create a time variable. Datetime objects are extremely useful in general, but they don't allow us to run a regression. In other words, you need to convert the datetime x-axis to a numerical one. The most straightforward way to achieve this is to just add a column with incremental integers, starting from 1.\n",
    "\n",
    "**I. Create time variable $t$**"
   ]
  },
  {
   "cell_type": "code",
   "execution_count": 60,
   "metadata": {},
   "outputs": [
    {
     "data": {
      "text/html": [
       "<div>\n",
       "<style scoped>\n",
       "    .dataframe tbody tr th:only-of-type {\n",
       "        vertical-align: middle;\n",
       "    }\n",
       "\n",
       "    .dataframe tbody tr th {\n",
       "        vertical-align: top;\n",
       "    }\n",
       "\n",
       "    .dataframe thead th {\n",
       "        text-align: right;\n",
       "    }\n",
       "</style>\n",
       "<table border=\"1\" class=\"dataframe\">\n",
       "  <thead>\n",
       "    <tr style=\"text-align: right;\">\n",
       "      <th></th>\n",
       "      <th>pageviews</th>\n",
       "    </tr>\n",
       "    <tr>\n",
       "      <th>week_id</th>\n",
       "      <th></th>\n",
       "    </tr>\n",
       "  </thead>\n",
       "  <tbody>\n",
       "    <tr>\n",
       "      <th>2018-12-31</th>\n",
       "      <td>2229451188</td>\n",
       "    </tr>\n",
       "    <tr>\n",
       "      <th>2019-01-07</th>\n",
       "      <td>2239288163</td>\n",
       "    </tr>\n",
       "    <tr>\n",
       "      <th>2019-01-14</th>\n",
       "      <td>2253536634</td>\n",
       "    </tr>\n",
       "    <tr>\n",
       "      <th>2019-01-21</th>\n",
       "      <td>2199428967</td>\n",
       "    </tr>\n",
       "    <tr>\n",
       "      <th>2019-01-28</th>\n",
       "      <td>2106553018</td>\n",
       "    </tr>\n",
       "    <tr>\n",
       "      <th>2019-02-04</th>\n",
       "      <td>2095006674</td>\n",
       "    </tr>\n",
       "    <tr>\n",
       "      <th>2019-02-11</th>\n",
       "      <td>2102802115</td>\n",
       "    </tr>\n",
       "    <tr>\n",
       "      <th>2019-02-18</th>\n",
       "      <td>2089880488</td>\n",
       "    </tr>\n",
       "    <tr>\n",
       "      <th>2019-02-25</th>\n",
       "      <td>2097551494</td>\n",
       "    </tr>\n",
       "    <tr>\n",
       "      <th>2019-03-04</th>\n",
       "      <td>2055452981</td>\n",
       "    </tr>\n",
       "  </tbody>\n",
       "</table>\n",
       "</div>"
      ],
      "text/plain": [
       "             pageviews\n",
       "week_id               \n",
       "2018-12-31  2229451188\n",
       "2019-01-07  2239288163\n",
       "2019-01-14  2253536634\n",
       "2019-01-21  2199428967\n",
       "2019-01-28  2106553018\n",
       "2019-02-04  2095006674\n",
       "2019-02-11  2102802115\n",
       "2019-02-18  2089880488\n",
       "2019-02-25  2097551494\n",
       "2019-03-04  2055452981"
      ]
     },
     "execution_count": 60,
     "metadata": {},
     "output_type": "execute_result"
    }
   ],
   "source": [
    "df_weekly.head(10)"
   ]
  },
  {
   "cell_type": "code",
   "execution_count": 61,
   "metadata": {},
   "outputs": [],
   "source": [
    "# create time variable as a new column `t` \n",
    "# Make sure `df_weekly` is sorted by `week_id` ascending.\n",
    "df_weekly[\"t\"] = range(1, len(df_weekly)+1)"
   ]
  },
  {
   "cell_type": "markdown",
   "metadata": {},
   "source": [
    "**II. Create constant**\n",
    "\n",
    "*Running OLS using the statsmodels package requires us to manually create a constant if we want it to be part of the regression*"
   ]
  },
  {
   "cell_type": "code",
   "execution_count": 63,
   "metadata": {},
   "outputs": [],
   "source": [
    "# create constant as a new column `const`\n",
    "df_weekly[\"const\"] = 1"
   ]
  },
  {
   "cell_type": "markdown",
   "metadata": {},
   "source": [
    "**III. Run OLS and show summary**"
   ]
  },
  {
   "cell_type": "code",
   "execution_count": 84,
   "metadata": {},
   "outputs": [
    {
     "data": {
      "text/html": [
       "<table class=\"simpletable\">\n",
       "<caption>OLS Regression Results</caption>\n",
       "<tr>\n",
       "  <th>Dep. Variable:</th>        <td>pageviews</td>    <th>  R-squared:         </th> <td>   0.087</td>\n",
       "</tr>\n",
       "<tr>\n",
       "  <th>Model:</th>                   <td>OLS</td>       <th>  Adj. R-squared:    </th> <td>   0.065</td>\n",
       "</tr>\n",
       "<tr>\n",
       "  <th>Method:</th>             <td>Least Squares</td>  <th>  F-statistic:       </th> <td>   3.829</td>\n",
       "</tr>\n",
       "<tr>\n",
       "  <th>Date:</th>             <td>Mon, 07 Sep 2020</td> <th>  Prob (F-statistic):</th>  <td>0.0574</td> \n",
       "</tr>\n",
       "<tr>\n",
       "  <th>Time:</th>                 <td>16:47:22</td>     <th>  Log-Likelihood:    </th> <td> -820.07</td>\n",
       "</tr>\n",
       "<tr>\n",
       "  <th>No. Observations:</th>      <td>    42</td>      <th>  AIC:               </th> <td>   1644.</td>\n",
       "</tr>\n",
       "<tr>\n",
       "  <th>Df Residuals:</th>          <td>    40</td>      <th>  BIC:               </th> <td>   1648.</td>\n",
       "</tr>\n",
       "<tr>\n",
       "  <th>Df Model:</th>              <td>     1</td>      <th>                     </th>     <td> </td>   \n",
       "</tr>\n",
       "<tr>\n",
       "  <th>Covariance Type:</th>      <td>nonrobust</td>    <th>                     </th>     <td> </td>   \n",
       "</tr>\n",
       "</table>\n",
       "<table class=\"simpletable\">\n",
       "<tr>\n",
       "    <td></td>       <th>coef</th>     <th>std err</th>      <th>t</th>      <th>P>|t|</th>  <th>[0.025</th>    <th>0.975]</th>  \n",
       "</tr>\n",
       "<tr>\n",
       "  <th>const</th> <td> 2.112e+09</td> <td> 2.35e+07</td> <td>   89.803</td> <td> 0.000</td> <td> 2.06e+09</td> <td> 2.16e+09</td>\n",
       "</tr>\n",
       "<tr>\n",
       "  <th>t</th>     <td>-1.865e+06</td> <td> 9.53e+05</td> <td>   -1.957</td> <td> 0.057</td> <td>-3.79e+06</td> <td> 6.13e+04</td>\n",
       "</tr>\n",
       "</table>\n",
       "<table class=\"simpletable\">\n",
       "<tr>\n",
       "  <th>Omnibus:</th>       <td> 6.177</td> <th>  Durbin-Watson:     </th> <td>   0.355</td>\n",
       "</tr>\n",
       "<tr>\n",
       "  <th>Prob(Omnibus):</th> <td> 0.046</td> <th>  Jarque-Bera (JB):  </th> <td>   5.380</td>\n",
       "</tr>\n",
       "<tr>\n",
       "  <th>Skew:</th>          <td> 0.870</td> <th>  Prob(JB):          </th> <td>  0.0679</td>\n",
       "</tr>\n",
       "<tr>\n",
       "  <th>Kurtosis:</th>      <td> 3.213</td> <th>  Cond. No.          </th> <td>    50.3</td>\n",
       "</tr>\n",
       "</table><br/><br/>Warnings:<br/>[1] Standard Errors assume that the covariance matrix of the errors is correctly specified."
      ],
      "text/plain": [
       "<class 'statsmodels.iolib.summary.Summary'>\n",
       "\"\"\"\n",
       "                            OLS Regression Results                            \n",
       "==============================================================================\n",
       "Dep. Variable:              pageviews   R-squared:                       0.087\n",
       "Model:                            OLS   Adj. R-squared:                  0.065\n",
       "Method:                 Least Squares   F-statistic:                     3.829\n",
       "Date:                Mon, 07 Sep 2020   Prob (F-statistic):             0.0574\n",
       "Time:                        16:47:22   Log-Likelihood:                -820.07\n",
       "No. Observations:                  42   AIC:                             1644.\n",
       "Df Residuals:                      40   BIC:                             1648.\n",
       "Df Model:                           1                                         \n",
       "Covariance Type:            nonrobust                                         \n",
       "==============================================================================\n",
       "                 coef    std err          t      P>|t|      [0.025      0.975]\n",
       "------------------------------------------------------------------------------\n",
       "const       2.112e+09   2.35e+07     89.803      0.000    2.06e+09    2.16e+09\n",
       "t          -1.865e+06   9.53e+05     -1.957      0.057   -3.79e+06    6.13e+04\n",
       "==============================================================================\n",
       "Omnibus:                        6.177   Durbin-Watson:                   0.355\n",
       "Prob(Omnibus):                  0.046   Jarque-Bera (JB):                5.380\n",
       "Skew:                           0.870   Prob(JB):                       0.0679\n",
       "Kurtosis:                       3.213   Cond. No.                         50.3\n",
       "==============================================================================\n",
       "\n",
       "Warnings:\n",
       "[1] Standard Errors assume that the covariance matrix of the errors is correctly specified.\n",
       "\"\"\""
      ]
     },
     "execution_count": 84,
     "metadata": {},
     "output_type": "execute_result"
    }
   ],
   "source": [
    "# Run OLS\n",
    "x = df_weekly[[\"const\", \"t\"]]\n",
    "y = df_weekly[\"pageviews\"]\n",
    "fit = sm.OLS(y, x).fit()\n",
    "fit.summary()"
   ]
  },
  {
   "cell_type": "code",
   "execution_count": null,
   "metadata": {},
   "outputs": [],
   "source": [
    "\n",
    "# Interpret the results in a few sentences\n",
    "# The effect of of time is negative but extremely small. The R2 is \n",
    "# also quite small, indicating there is probably little influence of \n",
    "# time on the pageviews"
   ]
  },
  {
   "cell_type": "markdown",
   "metadata": {},
   "source": [
    "**IV. Plot weekly pageviews incl. fitted line**\n",
    "\n",
    "Plot the same graph as above but add the new fitted line"
   ]
  },
  {
   "cell_type": "code",
   "execution_count": 71,
   "metadata": {},
   "outputs": [],
   "source": [
    "# Create new column in df with 'predicted pageviews' using the linear regression from above\n",
    "df_weekly[\"predicted pageviews\"] = fit.predict(x)"
   ]
  },
  {
   "cell_type": "code",
   "execution_count": 101,
   "metadata": {},
   "outputs": [
    {
     "data": {
      "text/plain": [
       "<matplotlib.lines.Line2D at 0x1827e36fa90>"
      ]
     },
     "execution_count": 101,
     "metadata": {},
     "output_type": "execute_result"
    },
    {
     "data": {
      "image/png": "[encoded data removed]",
      "text/plain": [
       "<Figure size 432x288 with 1 Axes>"
      ]
     },
     "metadata": {
      "needs_background": "light"
     },
     "output_type": "display_data"
    }
   ],
   "source": [
    "# plot weekly pageview and predicted pageviews\n",
    "# add vertical lines in red according to the start date and end date of the marketing campaign\n",
    "ax = df_weekly.plot(y=\"pageviews\", kind=\"line\")\n",
    "df_weekly.plot(y=\"predicted pageviews\", kind=\"line\", ax=ax, color=\"blue\")\n",
    "ax.axvline(campaign_start, color=\"r\")\n",
    "ax.axvline(campaign_end, color=\"r\")"
   ]
  },
  {
   "cell_type": "markdown",
   "metadata": {},
   "source": [
    "From reading the Regression output you should have already anticipated quite a bad result, but looking at it confirms that the model you chose is probably not the best one. \n",
    "\n",
    "Looking at the time-series, you might be better off fitting a quadratic line.\n",
    "\n",
    "## 2.1. Fit quadratic line\n",
    "\n",
    "$\\hat{pageviews_t} = \\hat{const} + t*\\hat{time} + t^2*\\hat{time^2}$\n",
    "\n",
    "**I. Add squared time variable**"
   ]
  },
  {
   "cell_type": "code",
   "execution_count": 76,
   "metadata": {},
   "outputs": [
    {
     "data": {
      "text/html": [
       "<div>\n",
       "<style scoped>\n",
       "    .dataframe tbody tr th:only-of-type {\n",
       "        vertical-align: middle;\n",
       "    }\n",
       "\n",
       "    .dataframe tbody tr th {\n",
       "        vertical-align: top;\n",
       "    }\n",
       "\n",
       "    .dataframe thead th {\n",
       "        text-align: right;\n",
       "    }\n",
       "</style>\n",
       "<table border=\"1\" class=\"dataframe\">\n",
       "  <thead>\n",
       "    <tr style=\"text-align: right;\">\n",
       "      <th></th>\n",
       "      <th>pageviews</th>\n",
       "      <th>t</th>\n",
       "      <th>const</th>\n",
       "      <th>predicted pageviews</th>\n",
       "      <th>t_squared</th>\n",
       "    </tr>\n",
       "    <tr>\n",
       "      <th>week_id</th>\n",
       "      <th></th>\n",
       "      <th></th>\n",
       "      <th></th>\n",
       "      <th></th>\n",
       "      <th></th>\n",
       "    </tr>\n",
       "  </thead>\n",
       "  <tbody>\n",
       "    <tr>\n",
       "      <th>2018-12-31</th>\n",
       "      <td>2229451188</td>\n",
       "      <td>1</td>\n",
       "      <td>1</td>\n",
       "      <td>2.110144e+09</td>\n",
       "      <td>1</td>\n",
       "    </tr>\n",
       "    <tr>\n",
       "      <th>2019-01-07</th>\n",
       "      <td>2239288163</td>\n",
       "      <td>2</td>\n",
       "      <td>1</td>\n",
       "      <td>2.108279e+09</td>\n",
       "      <td>4</td>\n",
       "    </tr>\n",
       "    <tr>\n",
       "      <th>2019-01-14</th>\n",
       "      <td>2253536634</td>\n",
       "      <td>3</td>\n",
       "      <td>1</td>\n",
       "      <td>2.106415e+09</td>\n",
       "      <td>9</td>\n",
       "    </tr>\n",
       "    <tr>\n",
       "      <th>2019-01-21</th>\n",
       "      <td>2199428967</td>\n",
       "      <td>4</td>\n",
       "      <td>1</td>\n",
       "      <td>2.104550e+09</td>\n",
       "      <td>16</td>\n",
       "    </tr>\n",
       "    <tr>\n",
       "      <th>2019-01-28</th>\n",
       "      <td>2106553018</td>\n",
       "      <td>5</td>\n",
       "      <td>1</td>\n",
       "      <td>2.102685e+09</td>\n",
       "      <td>25</td>\n",
       "    </tr>\n",
       "  </tbody>\n",
       "</table>\n",
       "</div>"
      ],
      "text/plain": [
       "             pageviews  t  const  predicted pageviews  t_squared\n",
       "week_id                                                         \n",
       "2018-12-31  2229451188  1      1         2.110144e+09          1\n",
       "2019-01-07  2239288163  2      1         2.108279e+09          4\n",
       "2019-01-14  2253536634  3      1         2.106415e+09          9\n",
       "2019-01-21  2199428967  4      1         2.104550e+09         16\n",
       "2019-01-28  2106553018  5      1         2.102685e+09         25"
      ]
     },
     "execution_count": 76,
     "metadata": {},
     "output_type": "execute_result"
    }
   ],
   "source": [
    "# add squared time variable\n",
    "df_weekly[\"t_squared\"] = df_weekly[\"t\"] ** 2\n",
    "df_weekly.head()"
   ]
  },
  {
   "cell_type": "code",
   "execution_count": 100,
   "metadata": {},
   "outputs": [
    {
     "data": {
      "text/html": [
       "<table class=\"simpletable\">\n",
       "<caption>OLS Regression Results</caption>\n",
       "<tr>\n",
       "  <th>Dep. Variable:</th>        <td>pageviews</td>    <th>  R-squared:         </th> <td>   0.743</td>\n",
       "</tr>\n",
       "<tr>\n",
       "  <th>Model:</th>                   <td>OLS</td>       <th>  Adj. R-squared:    </th> <td>   0.730</td>\n",
       "</tr>\n",
       "<tr>\n",
       "  <th>Method:</th>             <td>Least Squares</td>  <th>  F-statistic:       </th> <td>   56.43</td>\n",
       "</tr>\n",
       "<tr>\n",
       "  <th>Date:</th>             <td>Mon, 07 Sep 2020</td> <th>  Prob (F-statistic):</th> <td>3.08e-12</td>\n",
       "</tr>\n",
       "<tr>\n",
       "  <th>Time:</th>                 <td>16:59:21</td>     <th>  Log-Likelihood:    </th> <td> -793.45</td>\n",
       "</tr>\n",
       "<tr>\n",
       "  <th>No. Observations:</th>      <td>    42</td>      <th>  AIC:               </th> <td>   1593.</td>\n",
       "</tr>\n",
       "<tr>\n",
       "  <th>Df Residuals:</th>          <td>    39</td>      <th>  BIC:               </th> <td>   1598.</td>\n",
       "</tr>\n",
       "<tr>\n",
       "  <th>Df Model:</th>              <td>     2</td>      <th>                     </th>     <td> </td>   \n",
       "</tr>\n",
       "<tr>\n",
       "  <th>Covariance Type:</th>      <td>nonrobust</td>    <th>                     </th>     <td> </td>   \n",
       "</tr>\n",
       "</table>\n",
       "<table class=\"simpletable\">\n",
       "<tr>\n",
       "      <td></td>         <th>coef</th>     <th>std err</th>      <th>t</th>      <th>P>|t|</th>  <th>[0.025</th>    <th>0.975]</th>  \n",
       "</tr>\n",
       "<tr>\n",
       "  <th>const</th>     <td> 2.261e+09</td> <td> 1.95e+07</td> <td>  115.709</td> <td> 0.000</td> <td> 2.22e+09</td> <td>  2.3e+09</td>\n",
       "</tr>\n",
       "<tr>\n",
       "  <th>t</th>         <td>-2.214e+07</td> <td>  2.1e+06</td> <td>  -10.567</td> <td> 0.000</td> <td>-2.64e+07</td> <td>-1.79e+07</td>\n",
       "</tr>\n",
       "<tr>\n",
       "  <th>t_squared</th> <td> 4.716e+05</td> <td> 4.73e+04</td> <td>    9.979</td> <td> 0.000</td> <td> 3.76e+05</td> <td> 5.67e+05</td>\n",
       "</tr>\n",
       "</table>\n",
       "<table class=\"simpletable\">\n",
       "<tr>\n",
       "  <th>Omnibus:</th>       <td> 7.152</td> <th>  Durbin-Watson:     </th> <td>   1.140</td>\n",
       "</tr>\n",
       "<tr>\n",
       "  <th>Prob(Omnibus):</th> <td> 0.028</td> <th>  Jarque-Bera (JB):  </th> <td>   5.908</td>\n",
       "</tr>\n",
       "<tr>\n",
       "  <th>Skew:</th>          <td> 0.840</td> <th>  Prob(JB):          </th> <td>  0.0521</td>\n",
       "</tr>\n",
       "<tr>\n",
       "  <th>Kurtosis:</th>      <td> 3.745</td> <th>  Cond. No.          </th> <td>2.57e+03</td>\n",
       "</tr>\n",
       "</table><br/><br/>Warnings:<br/>[1] Standard Errors assume that the covariance matrix of the errors is correctly specified.<br/>[2] The condition number is large, 2.57e+03. This might indicate that there are<br/>strong multicollinearity or other numerical problems."
      ],
      "text/plain": [
       "<class 'statsmodels.iolib.summary.Summary'>\n",
       "\"\"\"\n",
       "                            OLS Regression Results                            \n",
       "==============================================================================\n",
       "Dep. Variable:              pageviews   R-squared:                       0.743\n",
       "Model:                            OLS   Adj. R-squared:                  0.730\n",
       "Method:                 Least Squares   F-statistic:                     56.43\n",
       "Date:                Mon, 07 Sep 2020   Prob (F-statistic):           3.08e-12\n",
       "Time:                        16:59:21   Log-Likelihood:                -793.45\n",
       "No. Observations:                  42   AIC:                             1593.\n",
       "Df Residuals:                      39   BIC:                             1598.\n",
       "Df Model:                           2                                         \n",
       "Covariance Type:            nonrobust                                         \n",
       "==============================================================================\n",
       "                 coef    std err          t      P>|t|      [0.025      0.975]\n",
       "------------------------------------------------------------------------------\n",
       "const       2.261e+09   1.95e+07    115.709      0.000    2.22e+09     2.3e+09\n",
       "t          -2.214e+07    2.1e+06    -10.567      0.000   -2.64e+07   -1.79e+07\n",
       "t_squared   4.716e+05   4.73e+04      9.979      0.000    3.76e+05    5.67e+05\n",
       "==============================================================================\n",
       "Omnibus:                        7.152   Durbin-Watson:                   1.140\n",
       "Prob(Omnibus):                  0.028   Jarque-Bera (JB):                5.908\n",
       "Skew:                           0.840   Prob(JB):                       0.0521\n",
       "Kurtosis:                       3.745   Cond. No.                     2.57e+03\n",
       "==============================================================================\n",
       "\n",
       "Warnings:\n",
       "[1] Standard Errors assume that the covariance matrix of the errors is correctly specified.\n",
       "[2] The condition number is large, 2.57e+03. This might indicate that there are\n",
       "strong multicollinearity or other numerical problems.\n",
       "\"\"\""
      ]
     },
     "execution_count": 100,
     "metadata": {},
     "output_type": "execute_result"
    }
   ],
   "source": [
    "# Rerun OLS\n",
    "x_2 = df_weekly[[\"const\", \"t\", \"t_squared\"]]\n",
    "y_2 = df_weekly[\"pageviews\"]\n",
    "fit_2 = sm.OLS(y_2, x_2).fit()\n",
    "fit_2.summary()\n",
    "# Run OLS"
   ]
  },
  {
   "cell_type": "code",
   "execution_count": null,
   "metadata": {},
   "outputs": [],
   "source": [
    "# Compare the results to the first OLS summary\n",
    "# The R2 is strong now"
   ]
  },
  {
   "cell_type": "markdown",
   "metadata": {},
   "source": [
    "**IV. Plot weekly pageviews incl. fitted line**\n",
    "\n",
    "Plot the graph from above (including the first fitted line) and add the quadratic line"
   ]
  },
  {
   "cell_type": "code",
   "execution_count": 102,
   "metadata": {},
   "outputs": [],
   "source": [
    "# Create new column in df with new 'predicted pageviews'\n",
    "df_weekly[\"pred_2\"] = fit_2.predict(x_2)"
   ]
  },
  {
   "cell_type": "code",
   "execution_count": 103,
   "metadata": {},
   "outputs": [
    {
     "data": {
      "image/png": "[encoded data removed]",
      "text/plain": [
       "<Figure size 432x288 with 1 Axes>"
      ]
     },
     "execution_count": 103,
     "metadata": {},
     "output_type": "execute_result"
    }
   ],
   "source": [
    "# plot weekly pageviews, predicted pageviews and the predicted pageviews using the quadratic line\n",
    "# use different colors to distinguish the different lines\n",
    "# add vertical lines in red according to the start date and end date of the marketing campaign\n",
    "\n",
    "df_weekly.plot(y=\"pred_2\", kind=\"line\", ax=ax, color=\"green\")\n",
    "ax.get_figure()"
   ]
  },
  {
   "cell_type": "markdown",
   "metadata": {},
   "source": [
    "Much better. \n",
    "You are going to continue your analysis using the quadratic line as the estimate. Hence, you interpret the quadratic line as *weekly pageviews company J would have gotten without the campaign*. This helps you in isolating the impact that the campaign might have had.\n",
    "\n",
    "## 3. Compute difference in estimated (predicted) pageviews and actual pageviews\n",
    "\n",
    "Using that data, you can now easily compute the differences between the 'predicted' pageviews compared to the actual pageviews. You will attribute that difference to the Marketing campaign."
   ]
  },
  {
   "cell_type": "code",
   "execution_count": 109,
   "metadata": {},
   "outputs": [],
   "source": [
    "df_weekly.reset_index(inplace=True)"
   ]
  },
  {
   "cell_type": "code",
   "execution_count": 113,
   "metadata": {},
   "outputs": [
    {
     "data": {
      "text/html": [
       "<div>\n",
       "<style scoped>\n",
       "    .dataframe tbody tr th:only-of-type {\n",
       "        vertical-align: middle;\n",
       "    }\n",
       "\n",
       "    .dataframe tbody tr th {\n",
       "        vertical-align: top;\n",
       "    }\n",
       "\n",
       "    .dataframe thead th {\n",
       "        text-align: right;\n",
       "    }\n",
       "</style>\n",
       "<table border=\"1\" class=\"dataframe\">\n",
       "  <thead>\n",
       "    <tr style=\"text-align: right;\">\n",
       "      <th></th>\n",
       "      <th>week_id</th>\n",
       "      <th>pageviews</th>\n",
       "      <th>t</th>\n",
       "      <th>const</th>\n",
       "      <th>t_squared</th>\n",
       "      <th>pred_2</th>\n",
       "    </tr>\n",
       "  </thead>\n",
       "  <tbody>\n",
       "    <tr>\n",
       "      <th>0</th>\n",
       "      <td>2019-04-08</td>\n",
       "      <td>2153783320</td>\n",
       "      <td>15</td>\n",
       "      <td>1</td>\n",
       "      <td>225</td>\n",
       "      <td>2.034676e+09</td>\n",
       "    </tr>\n",
       "    <tr>\n",
       "      <th>1</th>\n",
       "      <td>2019-04-15</td>\n",
       "      <td>2080427928</td>\n",
       "      <td>16</td>\n",
       "      <td>1</td>\n",
       "      <td>256</td>\n",
       "      <td>2.027152e+09</td>\n",
       "    </tr>\n",
       "    <tr>\n",
       "      <th>2</th>\n",
       "      <td>2019-04-22</td>\n",
       "      <td>2090046150</td>\n",
       "      <td>17</td>\n",
       "      <td>1</td>\n",
       "      <td>289</td>\n",
       "      <td>2.020571e+09</td>\n",
       "    </tr>\n",
       "  </tbody>\n",
       "</table>\n",
       "</div>"
      ],
      "text/plain": [
       "     week_id   pageviews   t  const  t_squared        pred_2\n",
       "0 2019-04-08  2153783320  15      1        225  2.034676e+09\n",
       "1 2019-04-15  2080427928  16      1        256  2.027152e+09\n",
       "2 2019-04-22  2090046150  17      1        289  2.020571e+09"
      ]
     },
     "execution_count": 113,
     "metadata": {},
     "output_type": "execute_result"
    }
   ],
   "source": [
    "# filter the df for only the relevant rows that were affected by the marketing campaign \n",
    "# and the columns needed for analysis\n",
    "diff = df_weekly.loc[(df_weekly[\"week_id\"] > campaign_start) & (df_weekly[\"week_id\"] < campaign_end)]\n",
    "diff = diff.drop(columns=[\"predicted pageviews\"]).reset_index(drop=True)\n",
    "diff.head()"
   ]
  },
  {
   "cell_type": "code",
   "execution_count": 118,
   "metadata": {},
   "outputs": [
    {
     "data": {
      "text/html": [
       "<div>\n",
       "<style scoped>\n",
       "    .dataframe tbody tr th:only-of-type {\n",
       "        vertical-align: middle;\n",
       "    }\n",
       "\n",
       "    .dataframe tbody tr th {\n",
       "        vertical-align: top;\n",
       "    }\n",
       "\n",
       "    .dataframe thead th {\n",
       "        text-align: right;\n",
       "    }\n",
       "</style>\n",
       "<table border=\"1\" class=\"dataframe\">\n",
       "  <thead>\n",
       "    <tr style=\"text-align: right;\">\n",
       "      <th></th>\n",
       "      <th>week_id</th>\n",
       "      <th>pageviews</th>\n",
       "      <th>t</th>\n",
       "      <th>const</th>\n",
       "      <th>t_squared</th>\n",
       "      <th>pred_2</th>\n",
       "      <th>diff</th>\n",
       "    </tr>\n",
       "  </thead>\n",
       "  <tbody>\n",
       "    <tr>\n",
       "      <th>0</th>\n",
       "      <td>2019-04-08</td>\n",
       "      <td>2153783320</td>\n",
       "      <td>15</td>\n",
       "      <td>1</td>\n",
       "      <td>225</td>\n",
       "      <td>2.034676e+09</td>\n",
       "      <td>1.191070e+08</td>\n",
       "    </tr>\n",
       "    <tr>\n",
       "      <th>1</th>\n",
       "      <td>2019-04-15</td>\n",
       "      <td>2080427928</td>\n",
       "      <td>16</td>\n",
       "      <td>1</td>\n",
       "      <td>256</td>\n",
       "      <td>2.027152e+09</td>\n",
       "      <td>5.327569e+07</td>\n",
       "    </tr>\n",
       "    <tr>\n",
       "      <th>2</th>\n",
       "      <td>2019-04-22</td>\n",
       "      <td>2090046150</td>\n",
       "      <td>17</td>\n",
       "      <td>1</td>\n",
       "      <td>289</td>\n",
       "      <td>2.020571e+09</td>\n",
       "      <td>6.947473e+07</td>\n",
       "    </tr>\n",
       "  </tbody>\n",
       "</table>\n",
       "</div>"
      ],
      "text/plain": [
       "     week_id   pageviews   t  const  t_squared        pred_2          diff\n",
       "0 2019-04-08  2153783320  15      1        225  2.034676e+09  1.191070e+08\n",
       "1 2019-04-15  2080427928  16      1        256  2.027152e+09  5.327569e+07\n",
       "2 2019-04-22  2090046150  17      1        289  2.020571e+09  6.947473e+07"
      ]
     },
     "execution_count": 118,
     "metadata": {},
     "output_type": "execute_result"
    }
   ],
   "source": [
    "# compute the absolute difference in pageviews for each of the three weeks as a new column `diff`\n",
    "diff[\"diff\"] = diff[\"pageviews\"] - diff[\"pred_2\"]\n",
    "diff"
   ]
  },
  {
   "cell_type": "code",
   "execution_count": 121,
   "metadata": {},
   "outputs": [
    {
     "name": "stdout",
     "output_type": "stream",
     "text": [
      "241857419.0598526\n"
     ]
    }
   ],
   "source": [
    "# Generate the total difference across the entire 3 weeks and print a sentence\n",
    "total = diff[\"diff\"].sum()\n",
    "print(total)\n",
    "# How many additional pageviews can be attributed to the campaign using your model?\n",
    "# 241 million extra"
   ]
  },
  {
   "cell_type": "code",
   "execution_count": 125,
   "metadata": {},
   "outputs": [
    {
     "name": "stdout",
     "output_type": "stream",
     "text": [
      "3.98% increase over 3 weeks.\n"
     ]
    }
   ],
   "source": [
    "# Generate the relative increase over 3 weeks and print a sentence (in %, 2 positions after the decimal)\n",
    "perc = (total / diff[\"pred_2\"].sum()) * 100\n",
    "print(f\"{perc:.2f}% increase over 3 weeks.\")"
   ]
  },
  {
   "cell_type": "markdown",
   "metadata": {},
   "source": [
    "# 4. Calculate ROI\n",
    "\n",
    "As said above, company J has worked with a consultancy in the past and they provided the following useful estimates:\n",
    "\n",
    "On a weekly basis, \n",
    "- users view on average **17.3 pages**\n",
    "- the conversion rate for unique users overall is **0.1%**\n",
    "- purchasing users only did so **once** in that week\n",
    "- the average purchase amount is **48.9 EUR**\n",
    "- company J's profit margin is **10%** on average\n",
    "\n",
    "From the Marketing team, you know that they spent **75,000 EUR** on the entire campaign.\n",
    "\n",
    "Using these figures, you can attempt to calculate the return on investment by assuming they apply to the marketing campaign weeks.\n",
    "\n",
    "**I. Set variables for the data provided by the consultancy**"
   ]
  },
  {
   "cell_type": "code",
   "execution_count": 127,
   "metadata": {},
   "outputs": [],
   "source": [
    "pvpu = 17.3 # pageviews per user\n",
    "cr = 0.001 # conversion rate\n",
    "rev = 48.9 # average revenue per purchase\n",
    "margin = 0.1 # profit margin"
   ]
  },
  {
   "cell_type": "code",
   "execution_count": 134,
   "metadata": {},
   "outputs": [
    {
     "name": "stdout",
     "output_type": "stream",
     "text": [
      "EUR 4.89\n"
     ]
    }
   ],
   "source": [
    "# calculate the average profit per purchase\n",
    "profit = margin * rev\n",
    "print(f\"EUR {profit:.2f}\")"
   ]
  },
  {
   "cell_type": "markdown",
   "metadata": {},
   "source": [
    "**II. Estimate conversion using both the predicted and actual pageviews**"
   ]
  },
  {
   "cell_type": "code",
   "execution_count": 140,
   "metadata": {},
   "outputs": [
    {
     "data": {
      "text/html": [
       "<div>\n",
       "<style scoped>\n",
       "    .dataframe tbody tr th:only-of-type {\n",
       "        vertical-align: middle;\n",
       "    }\n",
       "\n",
       "    .dataframe tbody tr th {\n",
       "        vertical-align: top;\n",
       "    }\n",
       "\n",
       "    .dataframe thead th {\n",
       "        text-align: right;\n",
       "    }\n",
       "</style>\n",
       "<table border=\"1\" class=\"dataframe\">\n",
       "  <thead>\n",
       "    <tr style=\"text-align: right;\">\n",
       "      <th></th>\n",
       "      <th>week_id</th>\n",
       "      <th>pageviews</th>\n",
       "      <th>t</th>\n",
       "      <th>const</th>\n",
       "      <th>t_squared</th>\n",
       "      <th>pred_2</th>\n",
       "      <th>diff</th>\n",
       "      <th>conversions</th>\n",
       "      <th>pred_conversions</th>\n",
       "      <th>diff_profit</th>\n",
       "    </tr>\n",
       "  </thead>\n",
       "  <tbody>\n",
       "    <tr>\n",
       "      <th>0</th>\n",
       "      <td>2019-04-08</td>\n",
       "      <td>2153783320</td>\n",
       "      <td>15</td>\n",
       "      <td>1</td>\n",
       "      <td>225</td>\n",
       "      <td>2.034676e+09</td>\n",
       "      <td>1.191070e+08</td>\n",
       "      <td>124496.145665</td>\n",
       "      <td>2.034676e+06</td>\n",
       "      <td>582433.234477</td>\n",
       "    </tr>\n",
       "    <tr>\n",
       "      <th>1</th>\n",
       "      <td>2019-04-15</td>\n",
       "      <td>2080427928</td>\n",
       "      <td>16</td>\n",
       "      <td>1</td>\n",
       "      <td>256</td>\n",
       "      <td>2.027152e+09</td>\n",
       "      <td>5.327569e+07</td>\n",
       "      <td>120255.949595</td>\n",
       "      <td>2.027152e+06</td>\n",
       "      <td>260518.100744</td>\n",
       "    </tr>\n",
       "    <tr>\n",
       "      <th>2</th>\n",
       "      <td>2019-04-22</td>\n",
       "      <td>2090046150</td>\n",
       "      <td>17</td>\n",
       "      <td>1</td>\n",
       "      <td>289</td>\n",
       "      <td>2.020571e+09</td>\n",
       "      <td>6.947473e+07</td>\n",
       "      <td>120811.916185</td>\n",
       "      <td>2.020571e+06</td>\n",
       "      <td>339731.443981</td>\n",
       "    </tr>\n",
       "  </tbody>\n",
       "</table>\n",
       "</div>"
      ],
      "text/plain": [
       "     week_id   pageviews   t  const  t_squared        pred_2          diff  \\\n",
       "0 2019-04-08  2153783320  15      1        225  2.034676e+09  1.191070e+08   \n",
       "1 2019-04-15  2080427928  16      1        256  2.027152e+09  5.327569e+07   \n",
       "2 2019-04-22  2090046150  17      1        289  2.020571e+09  6.947473e+07   \n",
       "\n",
       "     conversions  pred_conversions    diff_profit  \n",
       "0  124496.145665      2.034676e+06  582433.234477  \n",
       "1  120255.949595      2.027152e+06  260518.100744  \n",
       "2  120811.916185      2.020571e+06  339731.443981  "
      ]
     },
     "execution_count": 140,
     "metadata": {},
     "output_type": "execute_result"
    }
   ],
   "source": [
    "# re-use the dataframe from the previous section\n",
    "# add a new column `conversions` with estimated weekly conversions using the actual pageview numbers\n",
    "diff[\"conversions\"] = (diff[\"pageviews\"] / pvpu) * cr\n",
    "diff"
   ]
  },
  {
   "cell_type": "code",
   "execution_count": 141,
   "metadata": {},
   "outputs": [
    {
     "data": {
      "text/html": [
       "<div>\n",
       "<style scoped>\n",
       "    .dataframe tbody tr th:only-of-type {\n",
       "        vertical-align: middle;\n",
       "    }\n",
       "\n",
       "    .dataframe tbody tr th {\n",
       "        vertical-align: top;\n",
       "    }\n",
       "\n",
       "    .dataframe thead th {\n",
       "        text-align: right;\n",
       "    }\n",
       "</style>\n",
       "<table border=\"1\" class=\"dataframe\">\n",
       "  <thead>\n",
       "    <tr style=\"text-align: right;\">\n",
       "      <th></th>\n",
       "      <th>week_id</th>\n",
       "      <th>pageviews</th>\n",
       "      <th>t</th>\n",
       "      <th>const</th>\n",
       "      <th>t_squared</th>\n",
       "      <th>pred_2</th>\n",
       "      <th>diff</th>\n",
       "      <th>conversions</th>\n",
       "      <th>pred_conversions</th>\n",
       "      <th>diff_profit</th>\n",
       "    </tr>\n",
       "  </thead>\n",
       "  <tbody>\n",
       "    <tr>\n",
       "      <th>0</th>\n",
       "      <td>2019-04-08</td>\n",
       "      <td>2153783320</td>\n",
       "      <td>15</td>\n",
       "      <td>1</td>\n",
       "      <td>225</td>\n",
       "      <td>2.034676e+09</td>\n",
       "      <td>1.191070e+08</td>\n",
       "      <td>124496.145665</td>\n",
       "      <td>117611.347924</td>\n",
       "      <td>582433.234477</td>\n",
       "    </tr>\n",
       "    <tr>\n",
       "      <th>1</th>\n",
       "      <td>2019-04-15</td>\n",
       "      <td>2080427928</td>\n",
       "      <td>16</td>\n",
       "      <td>1</td>\n",
       "      <td>256</td>\n",
       "      <td>2.027152e+09</td>\n",
       "      <td>5.327569e+07</td>\n",
       "      <td>120255.949595</td>\n",
       "      <td>117176.430218</td>\n",
       "      <td>260518.100744</td>\n",
       "    </tr>\n",
       "    <tr>\n",
       "      <th>2</th>\n",
       "      <td>2019-04-22</td>\n",
       "      <td>2090046150</td>\n",
       "      <td>17</td>\n",
       "      <td>1</td>\n",
       "      <td>289</td>\n",
       "      <td>2.020571e+09</td>\n",
       "      <td>6.947473e+07</td>\n",
       "      <td>120811.916185</td>\n",
       "      <td>116796.035669</td>\n",
       "      <td>339731.443981</td>\n",
       "    </tr>\n",
       "  </tbody>\n",
       "</table>\n",
       "</div>"
      ],
      "text/plain": [
       "     week_id   pageviews   t  const  t_squared        pred_2          diff  \\\n",
       "0 2019-04-08  2153783320  15      1        225  2.034676e+09  1.191070e+08   \n",
       "1 2019-04-15  2080427928  16      1        256  2.027152e+09  5.327569e+07   \n",
       "2 2019-04-22  2090046150  17      1        289  2.020571e+09  6.947473e+07   \n",
       "\n",
       "     conversions  pred_conversions    diff_profit  \n",
       "0  124496.145665     117611.347924  582433.234477  \n",
       "1  120255.949595     117176.430218  260518.100744  \n",
       "2  120811.916185     116796.035669  339731.443981  "
      ]
     },
     "execution_count": 141,
     "metadata": {},
     "output_type": "execute_result"
    }
   ],
   "source": [
    "# add a new column `pred_conversions` with predicted weekly conversions\n",
    "diff[\"pred_conversions\"] = (diff[\"pred_2\"] / pvpu) * cr\n",
    "diff"
   ]
  },
  {
   "cell_type": "markdown",
   "metadata": {},
   "source": [
    "**III. Estimate the additional profit attributable to the Marketing campaign**"
   ]
  },
  {
   "cell_type": "code",
   "execution_count": 142,
   "metadata": {},
   "outputs": [
    {
     "data": {
      "text/html": [
       "<div>\n",
       "<style scoped>\n",
       "    .dataframe tbody tr th:only-of-type {\n",
       "        vertical-align: middle;\n",
       "    }\n",
       "\n",
       "    .dataframe tbody tr th {\n",
       "        vertical-align: top;\n",
       "    }\n",
       "\n",
       "    .dataframe thead th {\n",
       "        text-align: right;\n",
       "    }\n",
       "</style>\n",
       "<table border=\"1\" class=\"dataframe\">\n",
       "  <thead>\n",
       "    <tr style=\"text-align: right;\">\n",
       "      <th></th>\n",
       "      <th>week_id</th>\n",
       "      <th>pageviews</th>\n",
       "      <th>t</th>\n",
       "      <th>const</th>\n",
       "      <th>t_squared</th>\n",
       "      <th>pred_2</th>\n",
       "      <th>diff</th>\n",
       "      <th>conversions</th>\n",
       "      <th>pred_conversions</th>\n",
       "      <th>diff_profit</th>\n",
       "    </tr>\n",
       "  </thead>\n",
       "  <tbody>\n",
       "    <tr>\n",
       "      <th>0</th>\n",
       "      <td>2019-04-08</td>\n",
       "      <td>2153783320</td>\n",
       "      <td>15</td>\n",
       "      <td>1</td>\n",
       "      <td>225</td>\n",
       "      <td>2.034676e+09</td>\n",
       "      <td>1.191070e+08</td>\n",
       "      <td>124496.145665</td>\n",
       "      <td>117611.347924</td>\n",
       "      <td>33666.660952</td>\n",
       "    </tr>\n",
       "    <tr>\n",
       "      <th>1</th>\n",
       "      <td>2019-04-15</td>\n",
       "      <td>2080427928</td>\n",
       "      <td>16</td>\n",
       "      <td>1</td>\n",
       "      <td>256</td>\n",
       "      <td>2.027152e+09</td>\n",
       "      <td>5.327569e+07</td>\n",
       "      <td>120255.949595</td>\n",
       "      <td>117176.430218</td>\n",
       "      <td>15058.849754</td>\n",
       "    </tr>\n",
       "    <tr>\n",
       "      <th>2</th>\n",
       "      <td>2019-04-22</td>\n",
       "      <td>2090046150</td>\n",
       "      <td>17</td>\n",
       "      <td>1</td>\n",
       "      <td>289</td>\n",
       "      <td>2.020571e+09</td>\n",
       "      <td>6.947473e+07</td>\n",
       "      <td>120811.916185</td>\n",
       "      <td>116796.035669</td>\n",
       "      <td>19637.655721</td>\n",
       "    </tr>\n",
       "  </tbody>\n",
       "</table>\n",
       "</div>"
      ],
      "text/plain": [
       "     week_id   pageviews   t  const  t_squared        pred_2          diff  \\\n",
       "0 2019-04-08  2153783320  15      1        225  2.034676e+09  1.191070e+08   \n",
       "1 2019-04-15  2080427928  16      1        256  2.027152e+09  5.327569e+07   \n",
       "2 2019-04-22  2090046150  17      1        289  2.020571e+09  6.947473e+07   \n",
       "\n",
       "     conversions  pred_conversions   diff_profit  \n",
       "0  124496.145665     117611.347924  33666.660952  \n",
       "1  120255.949595     117176.430218  15058.849754  \n",
       "2  120811.916185     116796.035669  19637.655721  "
      ]
     },
     "execution_count": 142,
     "metadata": {},
     "output_type": "execute_result"
    }
   ],
   "source": [
    "# add a new column `diff_profit` with the difference in profit \n",
    "# between the estimated conversion and estimated predicted conversion\n",
    "diff[\"diff_profit\"] = ((diff[\"conversions\"] * profit) \n",
    "                       - (diff[\"pred_conversions\"] * profit))\n",
    "diff"
   ]
  },
  {
   "cell_type": "code",
   "execution_count": 143,
   "metadata": {},
   "outputs": [
    {
     "name": "stdout",
     "output_type": "stream",
     "text": [
      "Total increase in profit due campaign is EUR 68363.17\n"
     ]
    }
   ],
   "source": [
    "# Calculate the sum of the additional profit over the three weeks\n",
    "total_profit = diff[\"diff_profit\"].sum()\n",
    "# print a sentence that states the estimated increase in profit due to the campaign\n",
    "print(f\"Total increase in profit due campaign is EUR {total_profit:.2f}\")"
   ]
  },
  {
   "cell_type": "markdown",
   "metadata": {},
   "source": [
    "# 5. Conclusion"
   ]
  },
  {
   "cell_type": "code",
   "execution_count": null,
   "metadata": {},
   "outputs": [],
   "source": [
    "# Write down your conclusion and your recommendation to the product team\n",
    "\"\"\"\n",
    "There was a substantial increase in profit, however, it was less than the \n",
    "total spend on the campaign. \n",
    "\"\"\""
   ]
  },
  {
   "cell_type": "markdown",
   "metadata": {},
   "source": [
    "**Discussion**\n",
    "\n",
    "This analysis was based on many assumptions. Take some time to go through each of these assumptions and discuss their validity:\n",
    "\n",
    "Some of the crucial assumptions we made were:\n",
    "- Data points from the consultancy\n",
    "    - If the data points they provided was based on historical data from a time period before the marketing campaign started, what are potential risks when accepting them at face value?\n",
    "    - When applying the data points to 'newly acquired' users, what are potential biases?\n",
    "- Predicted Pageviews as a result of a linear regression\n",
    "    - How accurate is it to use the fitted quadratic line as a prediction for how many pageviews company J might have had without the campaign?\n",
    "    - How can you remedy some of these problems?\n",
    "    \n",
    "Think of other assumptions you made and discuss them as if you were to write a detailed analysis report to be shared with all employees in the company"
   ]
  }
 ],
 "metadata": {
  "kernelspec": {
   "display_name": "Python 3",
   "language": "python",
   "name": "python3"
  },
  "language_info": {
   "codemirror_mode": {
    "name": "ipython",
    "version": 3
   },
   "file_extension": ".py",
   "mimetype": "text/x-python",
   "name": "python",
   "nbconvert_exporter": "python",
   "pygments_lexer": "ipython3",
   "version": "3.8.5"
  }
 },
 "nbformat": 4,
 "nbformat_minor": 2
}
