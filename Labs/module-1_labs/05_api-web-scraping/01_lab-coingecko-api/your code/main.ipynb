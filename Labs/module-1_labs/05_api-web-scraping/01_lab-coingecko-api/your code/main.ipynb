{
 "cells": [
  {
   "cell_type": "markdown",
   "metadata": {},
   "source": [
    "##  Imports"
   ]
  },
  {
   "cell_type": "code",
   "execution_count": 25,
   "metadata": {},
   "outputs": [],
   "source": [
    "import pandas as pd\n",
    "import requests\n",
    "import json\n",
    "import matplotlib as mpl\n",
    "import matplotlib.pyplot as plt\n",
    "%matplotlib inline"
   ]
  },
  {
   "cell_type": "markdown",
   "metadata": {},
   "source": [
    "# Bitcoin market value for last 30 days, vs. USD, deliver a DF and a Plot"
   ]
  },
  {
   "cell_type": "code",
   "execution_count": 4,
   "metadata": {},
   "outputs": [
    {
     "data": {
      "text/plain": [
       "200"
      ]
     },
     "execution_count": 4,
     "metadata": {},
     "output_type": "execute_result"
    }
   ],
   "source": [
    "base = \"https://api.coingecko.com/api/v3/\"\n",
    "url = base + \"coins/bitcoin/market_chart\"\n",
    "param = {\"vs_currency\": \"usd\", \"days\":30}\n",
    "result = requests.get(url, params=param)\n",
    "result.status_code"
   ]
  },
  {
   "cell_type": "code",
   "execution_count": 17,
   "metadata": {},
   "outputs": [
    {
     "data": {
      "text/html": [
       "<div>\n",
       "<style scoped>\n",
       "    .dataframe tbody tr th:only-of-type {\n",
       "        vertical-align: middle;\n",
       "    }\n",
       "\n",
       "    .dataframe tbody tr th {\n",
       "        vertical-align: top;\n",
       "    }\n",
       "\n",
       "    .dataframe thead th {\n",
       "        text-align: right;\n",
       "    }\n",
       "</style>\n",
       "<table border=\"1\" class=\"dataframe\">\n",
       "  <thead>\n",
       "    <tr style=\"text-align: right;\">\n",
       "      <th></th>\n",
       "      <th>price</th>\n",
       "    </tr>\n",
       "    <tr>\n",
       "      <th>time</th>\n",
       "      <th></th>\n",
       "    </tr>\n",
       "  </thead>\n",
       "  <tbody>\n",
       "    <tr>\n",
       "      <th>2020-07-26 10:01:02.129</th>\n",
       "      <td>9819.109104</td>\n",
       "    </tr>\n",
       "    <tr>\n",
       "      <th>2020-07-26 11:08:15.243</th>\n",
       "      <td>9987.357043</td>\n",
       "    </tr>\n",
       "    <tr>\n",
       "      <th>2020-07-26 12:08:25.901</th>\n",
       "      <td>9964.040808</td>\n",
       "    </tr>\n",
       "    <tr>\n",
       "      <th>2020-07-26 13:08:10.490</th>\n",
       "      <td>9859.954625</td>\n",
       "    </tr>\n",
       "    <tr>\n",
       "      <th>2020-07-26 14:07:02.810</th>\n",
       "      <td>9883.111241</td>\n",
       "    </tr>\n",
       "  </tbody>\n",
       "</table>\n",
       "</div>"
      ],
      "text/plain": [
       "                               price\n",
       "time                                \n",
       "2020-07-26 10:01:02.129  9819.109104\n",
       "2020-07-26 11:08:15.243  9987.357043\n",
       "2020-07-26 12:08:25.901  9964.040808\n",
       "2020-07-26 13:08:10.490  9859.954625\n",
       "2020-07-26 14:07:02.810  9883.111241"
      ]
     },
     "execution_count": 17,
     "metadata": {},
     "output_type": "execute_result"
    }
   ],
   "source": [
    "j = result.json()\n",
    "df_bc = pd.DataFrame(j[\"prices\"], columns=[\"time\", \"price\"])\n",
    "df_bc[\"time\"] = pd.to_datetime(df_bc[\"time\"], unit=\"ms\")\n",
    "df_bc.set_index(\"time\", inplace=True)\n",
    "df_bc.head()"
   ]
  },
  {
   "cell_type": "code",
   "execution_count": 18,
   "metadata": {},
   "outputs": [
    {
     "data": {
      "text/plain": [
       "<matplotlib.axes._subplots.AxesSubplot at 0x1c3b70897f0>"
      ]
     },
     "execution_count": 18,
     "metadata": {},
     "output_type": "execute_result"
    },
    {
     "data": {
      "image/png": "[encoded data removed]",
      "text/plain": [
       "<Figure size 432x288 with 1 Axes>"
      ]
     },
     "metadata": {
      "needs_background": "light"
     },
     "output_type": "display_data"
    }
   ],
   "source": [
    "df_bc.plot()"
   ]
  },
  {
   "cell_type": "markdown",
   "metadata": {},
   "source": [
    "# Litecoin market value for last 30 days, vs. USD, deliver a DF and a Plot"
   ]
  },
  {
   "cell_type": "code",
   "execution_count": 42,
   "metadata": {},
   "outputs": [
    {
     "data": {
      "text/html": [
       "<div>\n",
       "<style scoped>\n",
       "    .dataframe tbody tr th:only-of-type {\n",
       "        vertical-align: middle;\n",
       "    }\n",
       "\n",
       "    .dataframe tbody tr th {\n",
       "        vertical-align: top;\n",
       "    }\n",
       "\n",
       "    .dataframe thead th {\n",
       "        text-align: right;\n",
       "    }\n",
       "</style>\n",
       "<table border=\"1\" class=\"dataframe\">\n",
       "  <thead>\n",
       "    <tr style=\"text-align: right;\">\n",
       "      <th></th>\n",
       "      <th>price</th>\n",
       "    </tr>\n",
       "    <tr>\n",
       "      <th>time</th>\n",
       "      <th></th>\n",
       "    </tr>\n",
       "  </thead>\n",
       "  <tbody>\n",
       "    <tr>\n",
       "      <th>2020-07-26 11:03:16.857</th>\n",
       "      <td>48.649353</td>\n",
       "    </tr>\n",
       "    <tr>\n",
       "      <th>2020-07-26 12:00:12.434</th>\n",
       "      <td>48.561413</td>\n",
       "    </tr>\n",
       "    <tr>\n",
       "      <th>2020-07-26 13:09:06.133</th>\n",
       "      <td>47.964552</td>\n",
       "    </tr>\n",
       "    <tr>\n",
       "      <th>2020-07-26 14:07:57.865</th>\n",
       "      <td>48.176288</td>\n",
       "    </tr>\n",
       "    <tr>\n",
       "      <th>2020-07-26 15:09:01.269</th>\n",
       "      <td>48.608722</td>\n",
       "    </tr>\n",
       "  </tbody>\n",
       "</table>\n",
       "</div>"
      ],
      "text/plain": [
       "                             price\n",
       "time                              \n",
       "2020-07-26 11:03:16.857  48.649353\n",
       "2020-07-26 12:00:12.434  48.561413\n",
       "2020-07-26 13:09:06.133  47.964552\n",
       "2020-07-26 14:07:57.865  48.176288\n",
       "2020-07-26 15:09:01.269  48.608722"
      ]
     },
     "execution_count": 42,
     "metadata": {},
     "output_type": "execute_result"
    }
   ],
   "source": [
    "def get_coin_data(coin, days=30):\n",
    "    \"\"\"Returns market data for coin.\"\"\"\n",
    "    \n",
    "    # Set up connection\n",
    "    base = \"https://api.coingecko.com/api/v3/\"\n",
    "    url = base + f\"coins/{coin}/market_chart\"\n",
    "    param = {\"vs_currency\": \"usd\", \"days\": days}\n",
    "    \n",
    "    # Get data and save JSON\n",
    "    result = requests.get(url, params=param)\n",
    "    j = result.json()\n",
    "    \n",
    "    # Convert to dataframe\n",
    "    df = pd.DataFrame(j[\"prices\"], columns=[\"time\", \"price\"])\n",
    "    df[\"time\"] = pd.to_datetime(df[\"time\"], unit=\"ms\")\n",
    "    \n",
    "    return df\n",
    "\n",
    "df_lc = get_coin_data(\"litecoin\")\n",
    "df_lc.set_index(\"time\", inplace=True)\n",
    "df_lc.head()\n",
    "\n"
   ]
  },
  {
   "cell_type": "code",
   "execution_count": 43,
   "metadata": {},
   "outputs": [
    {
     "data": {
      "text/plain": [
       "<matplotlib.axes._subplots.AxesSubplot at 0x1c3b8515eb0>"
      ]
     },
     "execution_count": 43,
     "metadata": {},
     "output_type": "execute_result"
    },
    {
     "data": {
      "image/png": "[encoded data removed]",
      "text/plain": [
       "<Figure size 432x288 with 1 Axes>"
      ]
     },
     "metadata": {
      "needs_background": "light"
     },
     "output_type": "display_data"
    }
   ],
   "source": [
    "df_lc.plot()"
   ]
  },
  {
   "cell_type": "markdown",
   "metadata": {},
   "source": [
    "## Plot Litecoin and Dogecoin prices in USD in a lineplot for each for the last 30 days"
   ]
  },
  {
   "cell_type": "code",
   "execution_count": 51,
   "metadata": {},
   "outputs": [
    {
     "data": {
      "text/plain": [
       "<matplotlib.axes._subplots.AxesSubplot at 0x1c3b8757370>"
      ]
     },
     "execution_count": 51,
     "metadata": {},
     "output_type": "execute_result"
    },
    {
     "data": {
      "image/png": "[encoded data removed]",
      "text/plain": [
       "<Figure size 432x288 with 1 Axes>"
      ]
     },
     "metadata": {
      "needs_background": "light"
     },
     "output_type": "display_data"
    }
   ],
   "source": [
    "df_dc = get_coin_data(\"dogecoin\")\n",
    "df_dc.set_index(\"time\", inplace=True)\n",
    "#combi = pd.merge(df_lc, df_dc, how=\"left\", on=\"time\")\n",
    "#combi.head()\n",
    "fig, ax1 = plt.subplots()\n",
    "df_lc.plot(ax=ax1)\n",
    "df_dc.plot(ax=ax1)"
   ]
  },
  {
   "cell_type": "markdown",
   "metadata": {},
   "source": [
    "# Top Ten Coins Report"
   ]
  },
  {
   "cell_type": "markdown",
   "metadata": {},
   "source": [
    "## List the first 10 coingecko currencies in a DataFrame"
   ]
  },
  {
   "cell_type": "code",
   "execution_count": 52,
   "metadata": {},
   "outputs": [
    {
     "data": {
      "text/plain": [
       "200"
      ]
     },
     "execution_count": 52,
     "metadata": {},
     "output_type": "execute_result"
    }
   ],
   "source": [
    "base = \"https://api.coingecko.com/api/v3/\"\n",
    "url = base + \"coins/list\"\n",
    "\n",
    "# Get data\n",
    "result = requests.get(url, params=param)\n",
    "result.status_code"
   ]
  },
  {
   "cell_type": "code",
   "execution_count": 57,
   "metadata": {},
   "outputs": [
    {
     "data": {
      "text/html": [
       "<div>\n",
       "<style scoped>\n",
       "    .dataframe tbody tr th:only-of-type {\n",
       "        vertical-align: middle;\n",
       "    }\n",
       "\n",
       "    .dataframe tbody tr th {\n",
       "        vertical-align: top;\n",
       "    }\n",
       "\n",
       "    .dataframe thead th {\n",
       "        text-align: right;\n",
       "    }\n",
       "</style>\n",
       "<table border=\"1\" class=\"dataframe\">\n",
       "  <thead>\n",
       "    <tr style=\"text-align: right;\">\n",
       "      <th></th>\n",
       "      <th>id</th>\n",
       "      <th>symbol</th>\n",
       "      <th>name</th>\n",
       "    </tr>\n",
       "  </thead>\n",
       "  <tbody>\n",
       "    <tr>\n",
       "      <th>0</th>\n",
       "      <td>01coin</td>\n",
       "      <td>zoc</td>\n",
       "      <td>01coin</td>\n",
       "    </tr>\n",
       "    <tr>\n",
       "      <th>1</th>\n",
       "      <td>0-5x-long-algorand-token</td>\n",
       "      <td>algohalf</td>\n",
       "      <td>0.5X Long Algorand Token</td>\n",
       "    </tr>\n",
       "    <tr>\n",
       "      <th>2</th>\n",
       "      <td>0-5x-long-altcoin-index-token</td>\n",
       "      <td>althalf</td>\n",
       "      <td>0.5X Long Altcoin Index Token</td>\n",
       "    </tr>\n",
       "    <tr>\n",
       "      <th>3</th>\n",
       "      <td>0-5x-long-balancer-token</td>\n",
       "      <td>balhalf</td>\n",
       "      <td>0.5X Long Balancer Token</td>\n",
       "    </tr>\n",
       "    <tr>\n",
       "      <th>4</th>\n",
       "      <td>0-5x-long-bilibra-token</td>\n",
       "      <td>trybhalf</td>\n",
       "      <td>0.5X Long BiLira Token</td>\n",
       "    </tr>\n",
       "    <tr>\n",
       "      <th>5</th>\n",
       "      <td>0-5x-long-bitcoin-cash-token</td>\n",
       "      <td>bchhalf</td>\n",
       "      <td>0.5X Long Bitcoin Cash Token</td>\n",
       "    </tr>\n",
       "    <tr>\n",
       "      <th>6</th>\n",
       "      <td>0-5x-long-bitcoin-sv-token</td>\n",
       "      <td>bsvhalf</td>\n",
       "      <td>0.5X Long Bitcoin SV Token</td>\n",
       "    </tr>\n",
       "    <tr>\n",
       "      <th>7</th>\n",
       "      <td>0-5x-long-bitcoin-token</td>\n",
       "      <td>half</td>\n",
       "      <td>0.5X Long Bitcoin Token</td>\n",
       "    </tr>\n",
       "    <tr>\n",
       "      <th>8</th>\n",
       "      <td>0-5x-long-bitmax-token-token</td>\n",
       "      <td>btmxhalf</td>\n",
       "      <td>0.5X Long BitMax Token Token</td>\n",
       "    </tr>\n",
       "    <tr>\n",
       "      <th>9</th>\n",
       "      <td>0-5x-long-bnb-token</td>\n",
       "      <td>bnbhalf</td>\n",
       "      <td>0.5X Long BNB Token</td>\n",
       "    </tr>\n",
       "  </tbody>\n",
       "</table>\n",
       "</div>"
      ],
      "text/plain": [
       "                              id    symbol                           name\n",
       "0                         01coin       zoc                         01coin\n",
       "1       0-5x-long-algorand-token  algohalf       0.5X Long Algorand Token\n",
       "2  0-5x-long-altcoin-index-token   althalf  0.5X Long Altcoin Index Token\n",
       "3       0-5x-long-balancer-token   balhalf       0.5X Long Balancer Token\n",
       "4        0-5x-long-bilibra-token  trybhalf         0.5X Long BiLira Token\n",
       "5   0-5x-long-bitcoin-cash-token   bchhalf   0.5X Long Bitcoin Cash Token\n",
       "6     0-5x-long-bitcoin-sv-token   bsvhalf     0.5X Long Bitcoin SV Token\n",
       "7        0-5x-long-bitcoin-token      half        0.5X Long Bitcoin Token\n",
       "8   0-5x-long-bitmax-token-token  btmxhalf   0.5X Long BitMax Token Token\n",
       "9            0-5x-long-bnb-token   bnbhalf            0.5X Long BNB Token"
      ]
     },
     "execution_count": 57,
     "metadata": {},
     "output_type": "execute_result"
    }
   ],
   "source": [
    "# Save JSON\n",
    "j = result.json()\n",
    "df = pd.DataFrame(j, columns=[\"id\", \"symbol\", \"name\"])\n",
    "df.head(10)"
   ]
  },
  {
   "cell_type": "markdown",
   "metadata": {},
   "source": [
    "## Make a csv called 'top_ten_report.csv' and check that it worked"
   ]
  },
  {
   "cell_type": "code",
   "execution_count": 58,
   "metadata": {},
   "outputs": [],
   "source": [
    "df.to_csv(\"top_ten_report.csv\")"
   ]
  },
  {
   "cell_type": "code",
   "execution_count": 59,
   "metadata": {},
   "outputs": [
    {
     "data": {
      "text/html": [
       "<div>\n",
       "<style scoped>\n",
       "    .dataframe tbody tr th:only-of-type {\n",
       "        vertical-align: middle;\n",
       "    }\n",
       "\n",
       "    .dataframe tbody tr th {\n",
       "        vertical-align: top;\n",
       "    }\n",
       "\n",
       "    .dataframe thead th {\n",
       "        text-align: right;\n",
       "    }\n",
       "</style>\n",
       "<table border=\"1\" class=\"dataframe\">\n",
       "  <thead>\n",
       "    <tr style=\"text-align: right;\">\n",
       "      <th></th>\n",
       "      <th>Unnamed: 0</th>\n",
       "      <th>id</th>\n",
       "      <th>symbol</th>\n",
       "      <th>name</th>\n",
       "    </tr>\n",
       "  </thead>\n",
       "  <tbody>\n",
       "    <tr>\n",
       "      <th>0</th>\n",
       "      <td>0</td>\n",
       "      <td>01coin</td>\n",
       "      <td>zoc</td>\n",
       "      <td>01coin</td>\n",
       "    </tr>\n",
       "    <tr>\n",
       "      <th>1</th>\n",
       "      <td>1</td>\n",
       "      <td>0-5x-long-algorand-token</td>\n",
       "      <td>algohalf</td>\n",
       "      <td>0.5X Long Algorand Token</td>\n",
       "    </tr>\n",
       "    <tr>\n",
       "      <th>2</th>\n",
       "      <td>2</td>\n",
       "      <td>0-5x-long-altcoin-index-token</td>\n",
       "      <td>althalf</td>\n",
       "      <td>0.5X Long Altcoin Index Token</td>\n",
       "    </tr>\n",
       "    <tr>\n",
       "      <th>3</th>\n",
       "      <td>3</td>\n",
       "      <td>0-5x-long-balancer-token</td>\n",
       "      <td>balhalf</td>\n",
       "      <td>0.5X Long Balancer Token</td>\n",
       "    </tr>\n",
       "    <tr>\n",
       "      <th>4</th>\n",
       "      <td>4</td>\n",
       "      <td>0-5x-long-bilibra-token</td>\n",
       "      <td>trybhalf</td>\n",
       "      <td>0.5X Long BiLira Token</td>\n",
       "    </tr>\n",
       "    <tr>\n",
       "      <th>...</th>\n",
       "      <td>...</td>\n",
       "      <td>...</td>\n",
       "      <td>...</td>\n",
       "      <td>...</td>\n",
       "    </tr>\n",
       "    <tr>\n",
       "      <th>5873</th>\n",
       "      <td>5873</td>\n",
       "      <td>zvchain</td>\n",
       "      <td>zvc</td>\n",
       "      <td>ZVCHAIN</td>\n",
       "    </tr>\n",
       "    <tr>\n",
       "      <th>5874</th>\n",
       "      <td>5874</td>\n",
       "      <td>zxth</td>\n",
       "      <td>zxth</td>\n",
       "      <td>ZXTH</td>\n",
       "    </tr>\n",
       "    <tr>\n",
       "      <th>5875</th>\n",
       "      <td>5875</td>\n",
       "      <td>zynecoin</td>\n",
       "      <td>zyn</td>\n",
       "      <td>Zynecoin</td>\n",
       "    </tr>\n",
       "    <tr>\n",
       "      <th>5876</th>\n",
       "      <td>5876</td>\n",
       "      <td>zyx</td>\n",
       "      <td>zyx</td>\n",
       "      <td>ZYX</td>\n",
       "    </tr>\n",
       "    <tr>\n",
       "      <th>5877</th>\n",
       "      <td>5877</td>\n",
       "      <td>zzz-finance</td>\n",
       "      <td>zzz</td>\n",
       "      <td>zzz.finance</td>\n",
       "    </tr>\n",
       "  </tbody>\n",
       "</table>\n",
       "<p>5878 rows × 4 columns</p>\n",
       "</div>"
      ],
      "text/plain": [
       "      Unnamed: 0                             id    symbol  \\\n",
       "0              0                         01coin       zoc   \n",
       "1              1       0-5x-long-algorand-token  algohalf   \n",
       "2              2  0-5x-long-altcoin-index-token   althalf   \n",
       "3              3       0-5x-long-balancer-token   balhalf   \n",
       "4              4        0-5x-long-bilibra-token  trybhalf   \n",
       "...          ...                            ...       ...   \n",
       "5873        5873                        zvchain       zvc   \n",
       "5874        5874                           zxth      zxth   \n",
       "5875        5875                       zynecoin       zyn   \n",
       "5876        5876                            zyx       zyx   \n",
       "5877        5877                    zzz-finance       zzz   \n",
       "\n",
       "                               name  \n",
       "0                            01coin  \n",
       "1          0.5X Long Algorand Token  \n",
       "2     0.5X Long Altcoin Index Token  \n",
       "3          0.5X Long Balancer Token  \n",
       "4            0.5X Long BiLira Token  \n",
       "...                             ...  \n",
       "5873                        ZVCHAIN  \n",
       "5874                           ZXTH  \n",
       "5875                       Zynecoin  \n",
       "5876                            ZYX  \n",
       "5877                    zzz.finance  \n",
       "\n",
       "[5878 rows x 4 columns]"
      ]
     },
     "execution_count": 59,
     "metadata": {},
     "output_type": "execute_result"
    }
   ],
   "source": [
    "pd.read_csv(\"top_ten_report.csv\")"
   ]
  },
  {
   "cell_type": "code",
   "execution_count": null,
   "metadata": {},
   "outputs": [],
   "source": []
  }
 ],
 "metadata": {
  "kernelspec": {
   "display_name": "Python 3",
   "language": "python",
   "name": "python3"
  },
  "language_info": {
   "codemirror_mode": {
    "name": "ipython",
    "version": 3
   },
   "file_extension": ".py",
   "mimetype": "text/x-python",
   "name": "python",
   "nbconvert_exporter": "python",
   "pygments_lexer": "ipython3",
   "version": "3.8.5"
  }
 },
 "nbformat": 4,
 "nbformat_minor": 4
}
