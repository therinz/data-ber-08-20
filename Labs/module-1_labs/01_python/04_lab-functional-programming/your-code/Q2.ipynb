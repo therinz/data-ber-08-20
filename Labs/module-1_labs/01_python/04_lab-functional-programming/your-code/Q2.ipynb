{
 "cells": [
  {
   "cell_type": "markdown",
   "metadata": {},
   "source": [
    "Now we want to enhance the `get_bow_from_docs` function so that it will work with HTML webpages. In HTML, there are a lot of messy codes such as HTML tags, Javascripts, [unicodes](https://www.w3schools.com/charsets/ref_utf_misc_symbols.asp) that will mess up your bag of words. We need to clean up those junk before generating BoW.\n",
    "\n",
    "Next, what you will do is to define several new functions each of which is specialized to clean up the HTML codes in one aspect. For instance, you can have a `strip_html_tags` function to remove all HTML tags, a `remove_punctuation` function to remove all punctuation, a `to_lower_case` function to convert string to lowercase, and a `remove_unicode` function to remove all unicodes.\n",
    "\n",
    "Then in your `get_bow_from_doc` function, you will call each of those functions you created to clean up the HTML before you generate the corpus.\n",
    "\n",
    "Note: Please use Python string operations and regular expression only in this lab. Do not use extra libraries such as `beautifulsoup` because otherwise you loose the purpose of practicing."
   ]
  },
  {
   "cell_type": "code",
   "execution_count": 45,
   "metadata": {},
   "outputs": [
    {
     "data": {
      "text/plain": [
       "['I', 'love', 'Ick']"
      ]
     },
     "execution_count": 45,
     "metadata": {},
     "output_type": "execute_result"
    }
   ],
   "source": [
    "# Define your string handling functions below\n",
    "# Minimal 3 functions\n",
    "import re\n",
    "\n",
    "def strip_html_tags(text):\n",
    "    search = r\"<.+>\"\n",
    "    return re.sub(search, \"\", text)\n",
    "\n",
    "def remove_punctuation(lst):\n",
    "    search = r\"(\\W)+\"\n",
    "    return [re.sub(search, \"\", t) for t in lst]\n",
    "\n",
    "def remove_unicode(text):\n",
    "    return text.encode('ascii', errors='ignore').strip().decode('ascii')\n",
    "txt = 'Iron<hack> isü co,ol.'\n",
    "txt2 = 'I loãve I<r>on<ha>ck.'\n",
    "lst = [txt, txt2]\n",
    "txt2 = remove_unicode(strip_html_tags(txt2))\n",
    "remove_punctuation(txt2.split())"
   ]
  },
  {
   "cell_type": "markdown",
   "metadata": {},
   "source": [
    "Next, paste your previously written `get_bow_from_docs` function below. Call your functions above at the appropriate place."
   ]
  },
  {
   "cell_type": "code",
   "execution_count": 37,
   "metadata": {},
   "outputs": [
    {
     "data": {
      "text/plain": [
       "{'bag_of_words': ['ir',\n",
       "  'i',\n",
       "  'love',\n",
       "  'irnhack',\n",
       "  'am',\n",
       "  'a',\n",
       "  'student',\n",
       "  'at',\n",
       "  'ironhack'],\n",
       " 'term_freq': [[1, 0, 0, 0, 0, 0, 0, 0, 0],\n",
       "  [0, 1, 1, 1, 0, 0, 0, 0, 0],\n",
       "  [0, 1, 0, 0, 1, 1, 1, 1, 1]]}"
      ]
     },
     "execution_count": 37,
     "metadata": {},
     "output_type": "execute_result"
    }
   ],
   "source": [
    "def get_bow_from_docs(docs, stop_words=[]):\n",
    "    # In the function, first define the variables you will use such as `corpus`, `bag_of_words`, and `term_freq`.\n",
    "    bag_of_words = []\n",
    "    term_freq = []\n",
    "    \n",
    "    # write your codes here\n",
    "    # Remove HTML and unicode. Convert to lower\n",
    "    corpus = [remove_unicode(strip_html_tags(doc.lower())) for doc in docs] \n",
    "    # Split and remove punctuation\n",
    "    corpus = [remove_punctuation(doc.split()) for doc in corpus]\n",
    "    \n",
    "    # Remove stopwords and add to bag of words\n",
    "    for doc in corpus:\n",
    "        for word in doc:\n",
    "            if word not in bag_of_words and word not in stop_words:\n",
    "                bag_of_words.append(word)\n",
    "    \n",
    "    # Build term frequency table\n",
    "    for doc in corpus:\n",
    "        term_freq.append([doc.count(word) for word in bag_of_words])\n",
    "    \n",
    "    return {\n",
    "        \"bag_of_words\": bag_of_words,\n",
    "        \"term_freq\": term_freq\n",
    "    }\n",
    "docs = ['Ir<>o-n<hä>ck is c>o<ol>.', 'I love Ir$énhack.', 'I am a student at Ironhack.']\n",
    "get_bow_from_docs(docs)"
   ]
  },
  {
   "cell_type": "markdown",
   "metadata": {},
   "source": [
    "Next, read the content from the three HTML webpages in the `your-codes` directory to test your function."
   ]
  },
  {
   "cell_type": "code",
   "execution_count": 46,
   "metadata": {},
   "outputs": [
    {
     "name": "stdout",
     "output_type": "stream",
     "text": [
      "{'bag_of_words': ['', 'javascript_include_tag', 'ossmaxcdncomlibshtml5shiv370html5shivjs', 'ossmaxcdncomlibsrespondjs142respondminjs', 'course', 'enables', 'students', 'fledged', 'data', 'analyst', '9', 'weeks', 'develop', 'practical', 'skills', 'useful', 'industry', 'rampup', 'prework', 'learn', 'intermediate', 'topics', 'analytics', 'using', 'pandas', 'engineering', 'create', 'application', 'real', 'datasets', 'you39ll', 'use', 'python', 'business', 'intelligence', 'bootcamp', 'doing', 'projects', 'combining', 'programming', 'ironhack39s', 'meant', 'help', 'secure', 'spot', 'important', 'skill', 'away', 'ability', 'technology', 'fastmoving', 'everchanging', 'context', 'httpschemaorg', 'type', 'fulltime', 'description', 'provider', 'localbusiness', 'ironhack', 'sameas', 'httpwwwironhackcomenutm_sourcecoursereportamputm_mediumschoolpage', '8', 'week', 'immersive', 'catered', 'beginners', 'previous', 'design', 'technical', 'experience', 'taught', 'fundamentals', 'user', 'centered', 'validate', 'ideas', 'research', 'rapid', 'prototyping', 'amp', 'heuristic', 'evaluation', 'end', 'capstone', 'project', 'new', 'product', 'idea', 'validation', 'launch', 'ready', 'start', 'career', 'ux', 'designer', 'freelance', 'turbo', 'charge', 'current', 'professional', 'trajectory', 'uxui', 'parttime', 'meets', 'tuesdays', 'thursdays', 'saturdays', 'additional', 'online', 'coursework', 'period', '6', 'months', 'build', 'stack', 'javascript', 'web', 'applications', 'big', 'emphasis', 'battletested', 'patterns', 'best', 'practices', 'evaluate', 'problem', 'select', 'optimal', 'solution', 'languageframework', 'suited', 'scope', 'addition', 'train', 'think', 'like', 'programmer', 'deconstruct', 'complex', 'problems', 'break', 'smaller', 'modules', 'good', 'general', 'understanding', 'various', 'languages', 'great', 'understands', 'fundamental', 'structure', 'possesses', 'language', 'required', 'development', 'heard', 'knew', 'needed', 'complete', 'education', 'completely', 'right', 'background', 'desire', 'improve', 'developer', 'little', 'grew', 'able', 'overcome', 'challenges', 'thought', 'possible', 'enormous', 'support', 'teacher', 'assistants', 'colleges', 'friends', 'difficult', 'coding', 'worked', 'biomedical', 'just', 'looking', 'approach', 'totally', 'style', 'life', 'learning', 'curve', 'verticle', 'upwards', 'started', '0', 'im', 'amazed', 'know', 'visited', 'tuenti', 'spanish', 'company', 'understood', 'talking', 'working', 'doesnt', 'teach', 'code', 'teaches', '100', 'recommendable', 'impressed', 'professor', 'alan', 'extremely', 'knowledgeable', 'person', 'natural', 'aptitude', 'teaching', 'patient', 'courteous', 'welcoming', 'questions', 'feedback', 'taking', 'time', 'ask', 'running', 'really', 'bit', 'class', 'curriculum', 'challenge', 'computer', 'science', 'prepare', 'scientists', 'types', 'likely', 'interview', 'explain', 'different', 'ways', 'terms', 'complexity', 'memory', 'management', 'expected', 'lessons', 'particularly', 'rewarding', 'knack', 'breaking', 'abstract', 'concepts', 'digestible', 'bits', 'getting', 'comfortable', 'try', 'collectively', 'attempt', 'protip', 'volunteer', 'solve', 'presents', 'noticed', 'brave', 'retained', 'information', 'better', 'walked', 'solid', 'gives', 'marker', 'effort', 'home', 'whiteboard', 'house', 'write', 'objectives', 'goals', 'examples', 'force', 'brain', 'reconcile', 'daily', 'basis', 'certainly', 'job', 'interviews', 'theyre', 'frustrating', 'prepared', 'graduation', 'youll', 'counseled', 'brito', 'counselor', 'cool', 'downtoearth', 'wisdom', 'share', 'interviewing', 'process', 'construct', 'resume', 'specifically', 'tells', 'reach', 'accepting', 'offers', 'insight', 'willingness', 'supportive', 'helpful', 'make', 'sure', 'land', 'starting', 'thankful', 'humbled', 'opportunity', 'study', 'awesome', 'classmates', 'teachers', 'absolute', 'pleasure', 'deal', 'blown', 'dev', 'got', 'chance', 'work', 'hackathon', 'impressive', 'legitimately', 'wish', 'absolutely', 'blew', 'mind', 'systematic', 'methodology', 'creativity', 'organized', 'processes', 'amazing', 'loved', 'wrap', 'wholeheartedly', 'recommended', 'ironhacks', '110', 'actively', 'participate', 'engaged', 'positive', 'attitude', 'lifechanging', 'event', 'concrete', 'situation', 'following', 'courses', 'speed', 'need', 'fast', 'people', 'thinks', 'pushed', 'level', 'high', 'instructors', 'friendly', 'open', 'discuss', 'asked', 'imagine', 'staff', 'did', 'receive', 'motivated', 'fact', 'interviewed', 'companies', 'google', 'ibm', 'decided', 'rails', 'environment', 'places', 'professionals', 'incredibly', 'talented', 'group', 'gave', 'didnt', 'wanted', 'hire', 'improving', 'place', 'var', 'newwindow', 'function', 'openverifyprovider_url', 'screenx', 'typeof', 'windowscreenx', 'undefined', 'windowscreenleft', 'screeny', 'windowscreeny', 'windowscreentop', 'outerwidth', 'windowouterwidth', 'documentbodyclientwidth', 'outerheight', 'windowouterheight', 'documentbodyclientheight', '22', 'left', 'parseintscreenx', '800', '2', '10', 'parseintscreeny', '25', 'features', 'width800height800left', 'review', 'verifyreviewdatareviewtostring', 'params', 'review_id', 'url', 'provider_url', 'bodycsscursor', 'progress', 'windowopenurl', 'login', 'windowfocus', 'newwindowfocus', 'return', 'false', 'emailverifyprovider_url', 'verifyreviewdataurltostring', 'post', 'sendconfirmation', 'successfunctiondata', 'preconfirmationhide', 'confirmedviaemailshow', 'bottombuffershow', 'close_instructions_modal', 'instructionsoverlayfadeout250', 'duplicateinstructionsoverlayfadeout250', 'instructionsconfirm', 'instructionscloseonclick', 'close_instructions_modalvar', 'closethismodal', 'confirmscholarshipoverlayfadeout500', 'bodycssoverflow', 'scroll', 'viewscholarships', 'windowlocationhref', 'researchcenterscholarships', 'goal', 'discovering', 'informing', 'conclusions', 'supporting', 'decisionmaking', 'analysis', 'multiple', 'facets', 'approaches', 'encompassing', 'diverse', 'techniques', 'variety', 'names', 'used', 'social', 'domains', 'varieties', 'synonym', 'modeling', 'tables', 'charts', 'communicate', 'key', 'messages', 'contained', 'lookup', 'specific', 'numbers', 'bar', 'line', 'quantitative', 'stephen', 'described', 'users', 'understand', 'set', 'associated', 'graphs', 'message', 'customers', 'specifying', 'requirements', 'analysts', 'performing', 'consider', 'author', 'jonathan', 'koomey', 'series', 'include', 'variables', 'individual', 'values', 'cluster', 'mean', 'add', 'layer', 'relationship', 'referred', 'mutually', 'exclusive', 'exhaustive', 'mece', 'example', 'profit', 'definition', 'broken', 'total', 'revenue', 'cost', 'turn', 'analyzed', 'components', 'divisions', 'b', 'c', 'relate', 'supports', 'rejecting', 'hypothesis', 'trying', 'determine', 'extent', 'independent', 'variable', 'x', 'affects', 'dependent', 'y', 'changes', 'unemployment', 'rate', 'affect', 'inflation', 'model', 'fit', 'equation', 'nca', 'allows', 'certain', 'necessary', 'regression', 'uses', 'additive', 'logic', 'xvariable', 'produce', 'outcome', 'xs', 'compensate', 'sufficient', 'condition', 'necessity', 'xvariables', 'allow', 'exist', 'single', 'present', 'compensation', '1', 'given', 'cases', 'attributes', 'z', 'conditions', 'attribute', 'satisfying', 'satisfy', '3', 'compute', 'aggregate', 'numeric', 'representation', 'value', 'aggregation', 'f', 's', '4', 'possessing', 'extreme', 'range', 'topbottom', 'n', 'respect', '5', 'rank', 'according', 'ordinal', 'metric', 'sorted', 'order', 'span', '7', 'characterize', 'distribution', 'identify', 'anomalies', 'expectation', 'statistical', 'outliers', 'unexpectedexceptional', 'clusters', 'similar', 'relationships', 'correlation', '11', 'contextual', 'relevancy', 'relevant', 'barriers', 'effective', 'audience', 'distinguishing', 'opinion', 'cognitive', 'biases', 'innumeracy', 'sound', 'agree', 'cbo', 'reported', 'examine', 'report', 'makes', 'persons', 'disagree', 'tendency', 'search', 'interpret', 'way', 'confirms', 'ones', 'preconceptions', 'individuals', 'discredit', 'does', 'views', 'commonsizing', 'employed', 'adjusting', 'comparing', 'vs', 'nominal', 'considering', 'population', 'increases', 'demographics', 'apply', 'address', 'section', 'recast', 'financial', 'statements', 'assumptions', 'arrive', 'estimate', 'future', 'cash', 'flow', 'discount', 'based', 'valuation', 'stock', 'similarly', 'analyzes', 'effects', 'policy', 'options', 'governments', 'outlays', 'deficits', 'creating', 'alternative', 'scenarios', 'measures', 'steps', 'carried', 'realise', 'smart', 'buildings', 'building', 'control', 'operations', 'including', 'heating', 'ventilation', 'air', 'conditioning', 'lighting', 'security', 'realised', 'automatically', 'miming', 'needs', 'optimising', 'resources', 'energy', 'contains', 'explanations', 'assist', 'practitioners', 'typical', 'wikipedia', 'article', 'quality', 'checked', 'early', 'assessed', 'frequency', 'counts', 'descriptive', 'statistics', 'standard', 'deviation', 'median', 'normality', 'skewness', 'kurtosis', 'histograms', 'compared', 'schemes', 'external', 'possibly', 'corrected', 'comparable', 'initial', 'phase', 'focus', 'question', 'check', 'measurement', 'instruments', 'corresponds', 'literature', 'assess', 'note', 'listed', 'transformations', 'randomization', 'procedure', 'success', 'nonrandom', 'sampling', 'instance', 'checking', 'subgroups', 'represented', 'sample', 'distortions', 'characteristics', 'original', 'plan', 'main', 'analyses', 'specified', 'rewritten', 'decisions', 'associations', 'continuous', 'exploratory', 'confirmatory', 'adopted', 'usually', 'collected', 'clear', 'stated', 'analysing', 'searched', 'models', 'hypotheses', 'tested', 'hard', 'look', 'stability', 'results', 'reliable', 'reproducible', 'methods', 'brief', 'list', 'popular', 'organizations', 'hold', 'contests', 'encourage', 'researchers', 'utilize', 'particular', 'wellknown', 'international', 'follows', 'newpp', 'limit', 'parsed', 'mw1258', 'cached', '20181023205919', 'cache', 'expiry', '1900800', 'dynamic', 'content', 'cpu', 'usage', '0596', 'seconds', '0744', 'preprocessor', 'node', 'count', '31771000000', 'generated', '01500000', 'postexpand', 'size', '729952097152', 'bytes', 'template', 'argument', '28332097152', 'highest', 'expansion', 'depth', '1240', 'expensive', 'parser', '5500', 'unstrip', 'recursion', '120', '621355000000', 'number', 'wikibase', 'entities', 'loaded', '3400', 'lua', '023010000', '576', 'mb50', 'mb', 'transclusion', 'mscallstemplate', '10000', '523114', '3198', '167305', 'templatereflist', '1744', '91248', 'templatecite_book', '971', '50806', 'templateisbn', '763', '39937', 'templateaccording_to_whom', '734', '38394', 'templatecite_journal', '698', '36524', 'templateauthority_control', '673', '35217', 'templatesidebar_with_collapsible_lists', '658', '34408', 'templatefixspan', '582', '30459', 'templatedata_visualization', 'saved', 'enwikipcacheidhash27209540canonical', 'timestamp', '20181023205918', 'revision', 'id', '862584710', 'retrieved', 'site'], 'term_freq': [[70, 2, 1, 1, 39, 6, 46, 2, 17, 2, 2, 2, 2, 2, 7, 2, 4, 2, 2, 30, 2, 2, 7, 8, 2, 2, 2, 2, 3, 2, 2, 6, 2, 2, 2, 13, 2, 6, 2, 10, 2, 2, 3, 2, 2, 7, 6, 8, 14, 7, 6, 6, 5, 5, 10, 3, 5, 5, 5, 10, 5, 5, 2, 2, 2, 2, 2, 2, 14, 6, 7, 4, 8, 8, 4, 4, 4, 6, 4, 4, 4, 4, 4, 12, 4, 4, 14, 4, 4, 4, 4, 5, 5, 6, 4, 4, 4, 4, 4, 4, 4, 4, 5, 4, 2, 2, 2, 2, 2, 2, 2, 2, 2, 2, 4, 4, 4, 9, 4, 6, 4, 4, 4, 11, 4, 4, 5, 4, 4, 5, 4, 4, 4, 4, 4, 8, 8, 13, 4, 5, 8, 4, 4, 4, 6, 4, 5, 4, 4, 5, 4, 4, 4, 4, 4, 4, 4, 1, 1, 2, 1, 1, 1, 1, 1, 1, 1, 2, 4, 1, 1, 1, 3, 2, 2, 1, 1, 1, 2, 1, 1, 2, 5, 1, 1, 2, 2, 2, 2, 1, 1, 3, 1, 1, 1, 1, 1, 3, 2, 1, 1, 1, 1, 1, 2, 1, 2, 1, 1, 1, 1, 1, 1, 3, 1, 3, 2, 2, 3, 1, 1, 1, 1, 1, 1, 3, 1, 1, 5, 2, 1, 2, 1, 6, 1, 2, 2, 1, 1, 1, 2, 1, 1, 1, 1, 1, 1, 1, 1, 1, 1, 1, 1, 1, 1, 1, 2, 3, 1, 1, 1, 1, 4, 1, 2, 1, 1, 1, 1, 1, 1, 1, 2, 1, 1, 1, 1, 1, 1, 1, 1, 1, 1, 1, 1, 1, 1, 1, 1, 1, 1, 1, 3, 1, 1, 1, 1, 2, 1, 1, 1, 2, 1, 1, 1, 2, 1, 1, 1, 1, 1, 1, 1, 1, 1, 1, 1, 1, 1, 2, 1, 1, 1, 2, 1, 3, 1, 3, 2, 3, 1, 1, 1, 1, 1, 1, 1, 1, 1, 1, 1, 1, 1, 1, 1, 1, 1, 1, 1, 1, 2, 1, 1, 1, 1, 2, 1, 1, 1, 1, 1, 1, 1, 1, 1, 1, 1, 1, 1, 1, 1, 1, 1, 1, 1, 1, 1, 1, 1, 1, 1, 1, 1, 2, 1, 1, 1, 1, 2, 1, 1, 1, 1, 1, 1, 1, 1, 1, 1, 1, 1, 1, 1, 1, 1, 3, 4, 6, 1, 1, 4, 2, 4, 1, 1, 2, 1, 2, 2, 1, 2, 2, 1, 1, 2, 1, 2, 1, 2, 1, 1, 2, 1, 5, 2, 2, 1, 4, 1, 1, 1, 1, 1, 1, 1, 2, 2, 1, 1, 1, 1, 1, 1, 1, 1, 1, 1, 1, 1, 1, 1, 2, 2, 2, 2, 1, 1, 1, 0, 0, 0, 0, 0, 0, 0, 0, 0, 0, 0, 0, 0, 0, 0, 0, 0, 0, 0, 0, 0, 0, 0, 0, 0, 0, 0, 0, 0, 0, 0, 0, 0, 0, 0, 0, 0, 0, 0, 0, 0, 0, 0, 0, 0, 0, 0, 0, 0, 0, 0, 0, 0, 0, 0, 0, 0, 0, 0, 0, 0, 0, 0, 0, 0, 0, 0, 0, 0, 0, 0, 0, 0, 0, 0, 0, 0, 0, 0, 0, 0, 0, 0, 0, 0, 0, 0, 0, 0, 0, 0, 0, 0, 0, 0, 0, 0, 0, 0, 0, 0, 0, 0, 0, 0, 0, 0, 0, 0, 0, 0, 0, 0, 0, 0, 0, 0, 0, 0, 0, 0, 0, 0, 0, 0, 0, 0, 0, 0, 0, 0, 0, 0, 0, 0, 0, 0, 0, 0, 0, 0, 0, 0, 0, 0, 0, 0, 0, 0, 0, 0, 0, 0, 0, 0, 0, 0, 0, 0, 0, 0, 0, 0, 0, 0, 0, 0, 0, 0, 0, 0, 0, 0, 0, 0, 0, 0, 0, 0, 0, 0, 0, 0, 0, 0, 0, 0, 0, 0, 0, 0, 0, 0, 0, 0, 0, 0, 0, 0, 0, 0, 0, 0, 0, 0, 0, 0, 0, 0, 0, 0, 0, 0, 0, 0, 0, 0, 0, 0, 0, 0, 0, 0, 0, 0, 0, 0, 0, 0, 0, 0, 0, 0, 0, 0, 0, 0, 0, 0, 0, 0, 0, 0, 0, 0, 0, 0, 0, 0, 0, 0, 0, 0, 0, 0, 0, 0, 0, 0, 0, 0, 0, 0, 0, 0, 0, 0, 0, 0, 0, 0, 0, 0, 0, 0, 0, 0, 0, 0, 0, 0, 0, 0, 0, 0, 0, 0, 0, 0, 0, 0, 0, 0, 0, 0, 0, 0, 0, 0, 0, 0, 0, 0, 0, 0, 0, 0, 0, 0, 0, 0, 0, 0, 0, 0, 0, 0, 0, 0, 0, 0, 0, 0, 0, 0, 0, 0, 0, 0, 0, 0, 0, 0, 0, 0, 0, 0, 0, 0, 0, 0, 0, 0, 0, 0, 0, 0, 0, 0, 0, 0, 0, 0, 0, 0, 0, 0, 0, 0, 0, 0, 0, 0, 0, 0, 0, 0, 0, 0, 0, 0, 0, 0, 0, 0, 0, 0, 0, 0, 0, 0, 0, 0, 0, 0, 0, 0, 0, 0, 0, 0, 0, 0, 0, 0, 0, 0, 0, 0, 0, 0, 0, 0, 0, 0, 0, 0, 0, 0, 0, 0, 0, 0, 0, 0, 0, 0, 0, 0, 0, 0, 0, 0, 0, 0, 0, 0, 0, 0, 0, 0, 0, 0, 0, 0, 0, 0, 0, 0, 0, 0, 0, 0], [15, 0, 0, 0, 1, 0, 0, 0, 58, 2, 1, 0, 0, 0, 0, 2, 0, 0, 0, 0, 0, 0, 0, 3, 0, 0, 0, 0, 2, 0, 0, 1, 0, 1, 0, 0, 1, 0, 0, 0, 0, 0, 4, 0, 0, 0, 0, 0, 0, 0, 0, 0, 1, 0, 0, 0, 0, 0, 0, 0, 0, 0, 1, 0, 0, 0, 0, 0, 0, 1, 0, 0, 0, 1, 0, 0, 0, 1, 0, 0, 0, 0, 0, 0, 0, 0, 0, 0, 0, 0, 0, 0, 0, 0, 0, 0, 0, 0, 0, 1, 0, 0, 0, 0, 0, 0, 0, 0, 1, 0, 0, 0, 2, 0, 0, 0, 0, 0, 0, 0, 0, 0, 0, 1, 1, 0, 0, 0, 0, 0, 0, 0, 1, 1, 0, 0, 1, 0, 0, 0, 0, 0, 0, 0, 0, 0, 1, 2, 0, 0, 0, 0, 2, 0, 0, 0, 0, 0, 0, 0, 0, 0, 0, 0, 0, 0, 0, 0, 0, 0, 1, 0, 1, 0, 4, 0, 1, 0, 0, 0, 0, 0, 2, 0, 0, 0, 1, 2, 0, 0, 0, 0, 1, 0, 0, 0, 0, 0, 0, 0, 1, 0, 0, 1, 0, 0, 0, 0, 0, 0, 0, 0, 0, 0, 0, 0, 0, 0, 0, 0, 0, 0, 0, 0, 0, 0, 0, 0, 6, 0, 0, 0, 0, 0, 0, 0, 0, 2, 0, 0, 2, 0, 0, 1, 5, 3, 1, 0, 1, 1, 0, 0, 0, 0, 0, 0, 0, 0, 0, 0, 0, 0, 0, 2, 2, 0, 0, 1, 0, 0, 0, 0, 3, 0, 0, 0, 0, 0, 0, 0, 0, 0, 0, 0, 0, 2, 0, 0, 0, 0, 0, 0, 0, 0, 0, 0, 0, 0, 0, 0, 0, 0, 0, 0, 0, 0, 0, 2, 0, 0, 0, 0, 0, 1, 0, 0, 0, 0, 1, 0, 0, 0, 0, 0, 0, 0, 2, 0, 0, 0, 0, 0, 0, 0, 0, 0, 0, 0, 0, 0, 0, 0, 0, 0, 0, 0, 0, 0, 0, 0, 0, 0, 0, 0, 1, 0, 0, 0, 0, 0, 0, 0, 0, 0, 1, 0, 0, 0, 0, 1, 0, 0, 0, 0, 0, 0, 0, 0, 0, 0, 0, 0, 0, 1, 0, 0, 2, 0, 1, 0, 0, 1, 0, 0, 0, 0, 0, 0, 0, 0, 0, 0, 0, 0, 0, 0, 0, 3, 0, 0, 0, 0, 0, 0, 0, 0, 0, 0, 0, 0, 0, 0, 0, 0, 0, 0, 0, 2, 1, 0, 0, 0, 0, 0, 0, 0, 0, 0, 0, 0, 0, 0, 0, 0, 0, 0, 1, 0, 0, 0, 0, 0, 0, 0, 0, 0, 0, 0, 0, 0, 0, 0, 0, 0, 0, 0, 0, 0, 1, 1, 1, 1, 1, 1, 17, 2, 1, 1, 1, 1, 3, 2, 1, 6, 1, 1, 1, 1, 1, 2, 4, 3, 4, 5, 2, 1, 2, 1, 1, 2, 5, 1, 2, 4, 1, 22, 1, 1, 1, 1, 1, 1, 4, 2, 1, 1, 1, 1, 1, 2, 6, 1, 10, 1, 2, 2, 1, 2, 1, 2, 2, 2, 1, 1, 1, 1, 1, 5, 5, 1, 1, 1, 1, 1, 3, 3, 1, 1, 1, 2, 2, 4, 4, 2, 4, 8, 1, 1, 8, 1, 2, 5, 1, 3, 1, 1, 1, 2, 1, 2, 5, 1, 2, 1, 2, 1, 2, 2, 1, 1, 2, 2, 1, 1, 1, 2, 1, 2, 1, 7, 13, 27, 7, 2, 3, 9, 1, 1, 2, 1, 1, 1, 1, 5, 1, 1, 8, 1, 1, 1, 2, 1, 2, 2, 2, 1, 2, 2, 1, 1, 3, 1, 1, 1, 3, 1, 1, 1, 3, 1, 1, 1, 2, 1, 1, 1, 1, 1, 1, 1, 1, 1, 1, 2, 1, 1, 1, 1, 3, 3, 2, 1, 3, 1, 1, 1, 1, 1, 1, 2, 1, 1, 1, 1, 1, 1, 1, 1, 1, 1, 1, 1, 2, 1, 2, 1, 1, 2, 1, 2, 1, 1, 1, 1, 1, 1, 2, 1, 1, 1, 1, 1, 1, 1, 1, 1, 1, 1, 1, 1, 1, 1, 1, 1, 1, 1, 1, 1, 1, 1, 2, 1, 1, 1, 1, 1, 1, 1, 1, 1, 1, 1, 1, 1, 1, 1, 1, 1, 1, 1, 1, 1, 1, 1, 2, 3, 1, 2, 2, 1, 1, 1, 1, 1, 1, 1, 1, 1, 1, 1, 2, 1, 1, 1, 1, 1, 2, 1, 2, 3, 2, 1, 1, 1, 1, 1, 1, 1, 1, 1, 1, 1, 1, 1, 1, 1, 1, 2, 1, 1, 1, 1, 4, 3, 1, 1, 1, 1, 1, 2, 2, 1, 1, 1, 2, 1, 1, 1, 1, 1, 1, 1, 1, 1, 2, 1, 1, 2, 1, 1, 1, 1, 1, 2, 1, 1, 1, 1, 1, 1, 1, 1, 1, 1, 1, 1, 1, 2, 1, 1, 1, 1, 1, 4, 1, 3, 1, 2, 2, 3, 1, 1, 1, 2, 3, 1, 3, 1, 1, 1, 1, 2, 2, 1, 1, 2, 1, 2, 1, 1, 1, 1, 1, 1, 1, 1, 2, 1, 1, 1, 1, 1, 1, 1, 1, 1, 1, 1, 1, 1, 1, 1, 1, 1, 1, 1, 1, 1, 1, 1, 1, 1, 1, 1, 1, 1, 1, 1, 1, 1, 1, 1, 1, 1, 1, 1, 1, 1, 1, 1, 1], [0, 0, 0, 0, 0, 0, 0, 0, 0, 0, 0, 0, 0, 0, 0, 0, 0, 0, 0, 0, 0, 0, 0, 0, 0, 0, 0, 0, 0, 0, 0, 0, 0, 0, 0, 0, 0, 0, 0, 0, 0, 0, 0, 0, 0, 0, 0, 0, 0, 0, 0, 0, 0, 0, 0, 0, 0, 0, 0, 0, 0, 0, 0, 0, 0, 0, 0, 0, 0, 0, 0, 0, 0, 0, 0, 0, 0, 0, 0, 0, 0, 0, 0, 0, 0, 0, 0, 0, 0, 0, 0, 0, 0, 0, 0, 0, 0, 0, 0, 0, 0, 0, 0, 0, 0, 0, 0, 0, 0, 0, 0, 0, 0, 0, 0, 0, 0, 0, 0, 0, 0, 0, 0, 0, 0, 0, 0, 0, 0, 0, 0, 0, 0, 0, 0, 0, 0, 0, 0, 0, 0, 0, 0, 0, 0, 0, 0, 0, 0, 0, 0, 0, 0, 0, 0, 0, 0, 0, 0, 0, 0, 0, 0, 0, 0, 0, 0, 0, 0, 0, 0, 0, 0, 0, 0, 0, 0, 0, 0, 0, 0, 0, 0, 0, 0, 0, 0, 0, 0, 0, 0, 0, 0, 0, 0, 0, 0, 0, 0, 0, 0, 0, 0, 0, 0, 0, 0, 0, 0, 0, 0, 0, 0, 0, 0, 0, 0, 0, 0, 0, 0, 0, 0, 0, 0, 0, 0, 0, 0, 0, 0, 0, 0, 0, 0, 0, 0, 0, 0, 0, 0, 0, 0, 0, 0, 0, 0, 0, 0, 0, 0, 0, 0, 0, 0, 0, 0, 0, 0, 0, 0, 0, 0, 0, 0, 0, 0, 0, 0, 0, 0, 0, 0, 0, 0, 0, 0, 0, 0, 0, 0, 0, 0, 0, 0, 0, 0, 0, 0, 0, 0, 0, 0, 0, 0, 0, 0, 0, 0, 0, 0, 0, 0, 0, 0, 0, 0, 0, 0, 0, 0, 0, 0, 0, 0, 0, 0, 0, 0, 0, 0, 0, 0, 0, 0, 0, 0, 0, 0, 0, 0, 0, 0, 0, 0, 0, 0, 0, 0, 0, 0, 0, 0, 0, 0, 0, 0, 0, 0, 0, 0, 0, 0, 0, 0, 0, 0, 0, 0, 0, 0, 0, 0, 0, 0, 0, 0, 0, 0, 0, 0, 0, 0, 0, 0, 0, 0, 0, 0, 0, 0, 0, 0, 0, 0, 0, 0, 0, 0, 0, 0, 0, 0, 0, 0, 0, 0, 0, 0, 0, 0, 0, 0, 0, 0, 0, 0, 0, 0, 0, 0, 0, 0, 0, 0, 0, 0, 0, 0, 0, 0, 0, 0, 0, 0, 0, 0, 0, 0, 0, 0, 0, 0, 0, 0, 0, 0, 0, 0, 0, 0, 0, 0, 0, 0, 0, 0, 0, 0, 0, 0, 0, 0, 0, 0, 0, 0, 0, 0, 0, 0, 0, 0, 0, 0, 0, 0, 0, 0, 0, 0, 0, 0, 0, 0, 0, 0, 0, 0, 0, 0, 0, 0, 0, 0, 0, 0, 0, 0, 0, 0, 0, 0, 0, 0, 0, 0, 0, 0, 0, 0, 0, 0, 0, 0, 0, 0, 0, 0, 0, 0, 0, 0, 0, 0, 0, 0, 0, 0, 0, 0, 0, 0, 0, 0, 0, 0, 0, 0, 0, 0, 0, 0, 0, 0, 0, 0, 0, 0, 0, 0, 0, 0, 0, 0, 0, 0, 0, 0, 0, 0, 0, 0, 0, 0, 0, 0, 0, 0, 0, 0, 0, 0, 0, 0, 0, 0, 0, 0, 0, 0, 0, 0, 0, 0, 0, 0, 0, 0, 0, 0, 0, 0, 0, 0, 0, 0, 0, 0, 0, 0, 0, 0, 0, 0, 0, 0, 0, 0, 0, 0, 0, 0, 0, 0, 0, 0, 0, 0, 0, 0, 0, 0, 0, 0, 0, 0, 0, 0, 0, 0, 0, 0, 0, 0, 0, 0, 0, 0, 0, 0, 0, 0, 0, 0, 0, 0, 0, 0, 0, 0, 0, 0, 0, 0, 0, 0, 0, 0, 0, 0, 0, 0, 0, 0, 0, 0, 0, 0, 0, 0, 0, 0, 0, 0, 0, 0, 0, 0, 0, 0, 0, 0, 0, 0, 0, 0, 0, 0, 0, 0, 0, 0, 0, 0, 0, 0, 0, 0, 0, 0, 0, 0, 0, 0, 0, 0, 0, 0, 0, 0, 0, 0, 0, 0, 0, 0, 0, 0, 0, 0, 0, 0, 0, 0, 0, 0, 0, 0, 0, 0, 0, 0, 0, 0, 0, 0, 0, 0, 0, 0, 0, 0, 0, 0, 0, 0, 0, 0, 0, 0, 0, 0, 0, 0, 0, 0, 0, 0, 0, 0, 0, 0, 0, 0, 0, 0, 0, 0, 0, 0, 0, 0, 0, 0, 0, 0, 0, 0, 0, 0, 0, 0, 0, 0, 0, 0, 0, 0, 0, 0, 0, 0, 0, 0, 0, 0, 0, 0, 0, 0, 0, 0, 0, 0, 0, 0, 0, 0, 0, 0, 0, 0, 0, 0, 0, 0, 0, 0, 0, 0, 0, 0, 0, 0, 0, 0, 0, 0, 0, 0, 0, 0, 0, 0, 0, 0, 0, 0, 0, 0, 0, 0, 0, 0, 0, 0, 0, 0, 0, 0, 0, 0, 0, 0, 0, 0, 0, 0, 0, 0, 0, 0, 0, 0, 0, 0, 0, 0, 0, 0, 0, 0, 0, 0, 0, 0, 0, 0, 0, 0, 0, 0, 0, 0, 0, 0, 0, 0, 0, 0, 0, 0, 0, 0, 0, 0, 0, 0, 0, 0, 0, 0, 0, 0, 0, 0, 0, 0, 0, 0, 0, 0, 0, 0, 0, 0, 0, 0, 0, 0]]}\n"
     ]
    }
   ],
   "source": [
    "from sklearn.feature_extraction import stop_words\n",
    "\n",
    "files = ['www.coursereport.com_ironhack.html',\n",
    "        'en.wikipedia.org_Data_analysis.html',\n",
    "        'www.lipsum.com.html']\n",
    "\n",
    "# Open docs\n",
    "docs = []\n",
    "for doc in files:\n",
    "    with open(doc, encoding=\"utf8\") as d:\n",
    "        docs.append(d.read())\n",
    "\n",
    "bow = get_bow_from_docs(docs,\n",
    "    stop_words.ENGLISH_STOP_WORDS\n",
    ")\n",
    "\n",
    "print(bow)"
   ]
  },
  {
   "cell_type": "markdown",
   "metadata": {},
   "source": [
    "Do you see any problem in the output? How do you improve the output?\n",
    "\n",
    "A good way to improve your codes is to look into the HTML data sources and try to understand where the messy output came from. A good data analyst always learns about the data in depth in order to perform the job well.\n",
    "\n",
    "Spend 20-30 minutes to improve your functions or until you feel you are good at string operations. This lab is just a practice so you don't need to stress yourself out. If you feel you've practiced enough you can stop and move on the next challenge question."
   ]
  },
  {
   "cell_type": "code",
   "execution_count": null,
   "metadata": {},
   "outputs": [],
   "source": []
  }
 ],
 "metadata": {
  "kernelspec": {
   "display_name": "Python 3",
   "language": "python",
   "name": "python3"
  },
  "language_info": {
   "codemirror_mode": {
    "name": "ipython",
    "version": 3
   },
   "file_extension": ".py",
   "mimetype": "text/x-python",
   "name": "python",
   "nbconvert_exporter": "python",
   "pygments_lexer": "ipython3",
   "version": "3.8.5"
  }
 },
 "nbformat": 4,
 "nbformat_minor": 2
}
