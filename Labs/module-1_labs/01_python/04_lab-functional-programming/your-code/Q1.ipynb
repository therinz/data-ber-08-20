{
 "cells": [
  {
   "cell_type": "markdown",
   "metadata": {},
   "source": [
    "In the cell below, create a Python function that wraps your previous solution for the Bag of Words lab.\n",
    "\n",
    "Requirements:\n",
    "\n",
    "1. Your function should accept the following parameters:\n",
    "    * `docs` [REQUIRED] - array of document paths.\n",
    "    * `stop_words` [OPTIONAL] - array of stop words. The default value is an empty array.\n",
    "\n",
    "1. Your function should return a Python object that contains the following:\n",
    "    * `bag_of_words` - array of strings of normalized unique words in the corpus.\n",
    "    * `term_freq` - array of the term-frequency vectors."
   ]
  },
  {
   "cell_type": "code",
   "execution_count": 13,
   "metadata": {},
   "outputs": [],
   "source": [
    "# Import required libraries\n",
    "\n",
    "# Define function\n",
    "def get_bow_from_docs(docs, stop_words=[]):\n",
    "    \n",
    "    # In the function, first define the variables you will use such as `corpus`, `bag_of_words`, and `term_freq`.\n",
    "    \n",
    "    \n",
    "    \"\"\"\n",
    "    Loop `docs` and read the content of each doc into a string in `corpus`.\n",
    "    Remember to convert the doc content to lowercases and remove punctuation.\n",
    "    \"\"\"\n",
    "    corpus = [doc.replace(\".\", \"\").lower() for doc in docs]   \n",
    "    \n",
    "    \"\"\"\n",
    "    Loop `corpus`. Append the terms in each doc into the `bag_of_words` array. The terms in `bag_of_words` \n",
    "    should be unique which means before adding each term you need to check if it's already added to the array.\n",
    "    In addition, check if each term is in the `stop_words` array. Only append the term to `bag_of_words`\n",
    "    if it is not a stop word.\n",
    "    \"\"\"\n",
    "    bag_of_words = []\n",
    "    \n",
    "    for doc in corpus:\n",
    "        for word in doc.split():\n",
    "            if word not in bag_of_words and word not in stop_words:\n",
    "                bag_of_words.append(word)\n",
    "     \n",
    "    \"\"\"\n",
    "    Loop `corpus` again. For each doc string, count the number of occurrences of each term in `bag_of_words`. \n",
    "    Create an array for each doc's term frequency and append it to `term_freq`.\n",
    "    \"\"\"\n",
    "    term_freq = []\n",
    "    \n",
    "    for doc in corpus:\n",
    "        term_freq.append([doc.split().count(word) for word in bag_of_words])\n",
    "    \n",
    "    \n",
    "    # Now return your output as an object\n",
    "    return {\n",
    "        \"bag_of_words\": bag_of_words,\n",
    "        \"term_freq\": term_freq\n",
    "    }\n"
   ]
  },
  {
   "cell_type": "markdown",
   "metadata": {},
   "source": [
    "Test your function without stop words. You should see the output like below:\n",
    "\n",
    "```{'bag_of_words': ['ironhack', 'is', 'cool', 'i', 'love', 'am', 'a', 'student', 'at'], 'term_freq': [[1, 1, 1, 0, 0, 0, 0, 0, 0], [1, 0, 0, 1, 1, 0, 0, 0, 0], [1, 0, 0, 1, 0, 1, 1, 1, 1]]}```"
   ]
  },
  {
   "cell_type": "code",
   "execution_count": 9,
   "metadata": {},
   "outputs": [
    {
     "name": "stdout",
     "output_type": "stream",
     "text": [
      "{'bag_of_words': ['ironhack', 'is', 'cool', 'i', 'love', 'am', 'a', 'student', 'at'], 'term_freq': [[1, 1, 1, 0, 0, 0, 0, 0, 0], [1, 0, 0, 1, 1, 0, 0, 0, 0], [1, 0, 0, 1, 0, 1, 1, 1, 1]]}\n"
     ]
    }
   ],
   "source": [
    "# Define doc paths array\n",
    "docs = ['Ironhack is cool.', 'I love Ironhack.', 'I am a student at Ironhack.']\n",
    "\n",
    "# Obtain BoW from your function\n",
    "bow = get_bow_from_docs(docs)\n",
    "\n",
    "# Print BoW\n",
    "print(bow)"
   ]
  },
  {
   "cell_type": "markdown",
   "metadata": {},
   "source": [
    "If your attempt above is successful, nice work done!\n",
    "\n",
    "Now test your function again with the stop words. In the previous lab we defined the stop words in a large array. In this lab, we'll import the stop words from Scikit-Learn."
   ]
  },
  {
   "cell_type": "code",
   "execution_count": 11,
   "metadata": {},
   "outputs": [
    {
     "name": "stdout",
     "output_type": "stream",
     "text": [
      "frozenset({'not', 'empty', 'thereupon', 'between', 'then', 'by', 'about', 'would', 'until', 'full', 'many', 'upon', 'describe', 're', 'you', 'amoungst', 'here', 'sixty', 'had', 'became', 'hence', 'latter', 'interest', 'fifty', 'call', 'de', 'elsewhere', 'also', 'thick', 'three', 'inc', 'done', 'there', 'cant', 'her', 'whatever', 'was', 'herein', 'them', 'to', 'part', 'whether', 'perhaps', 'least', 'they', 'now', 'bottom', 'two', 'whereafter', 'anyway', 'mostly', 'already', 'when', 'none', 'sincere', 'these', 'besides', 'at', 'cry', 'is', 'though', 'over', 'still', 'wherein', 'cannot', 'i', 'front', 'no', 'serious', 'my', 'via', 'beside', 'thus', 'such', 'yet', 'can', 'where', 'us', 'his', 'co', 'due', 'or', 'and', 'a', 'indeed', 'that', 'thereafter', 'something', 'it', 'becoming', 'enough', 'behind', 'latterly', 'all', 'first', 'six', 'see', 'few', 'bill', 'below', 'back', 'whence', 'eleven', 'whereby', 'therefore', 'so', 'from', 'whereupon', 'herself', 'mine', 'per', 'afterwards', 'very', 'some', 'find', 'toward', 'alone', 'but', 'again', 'because', 'were', 'too', 'before', 'more', 'yours', 'across', 'whole', 'fifteen', 'put', 'con', 'our', 'an', 'former', 'seeming', 'onto', 'may', 'thin', 'namely', 'each', 'eg', 'ours', 'among', 'the', 'un', 'those', 'other', 'formerly', 'could', 'someone', 'otherwise', 'for', 'hereupon', 'as', 'into', 'couldnt', 'seemed', 'anyhow', 'since', 'yourself', 'he', 'its', 'their', 'this', 'eight', 'are', 'nevertheless', 'etc', 'might', 'always', 'throughout', 'him', 'seems', 'sometimes', 'whoever', 'mill', 'somewhere', 'next', 'everything', 'through', 'amount', 'down', 'me', 'itself', 'fire', 'others', 'what', 'side', 'without', 'above', 'yourselves', 'twelve', 'why', 'around', 'most', 'beyond', 'hasnt', 'nor', 'should', 'own', 'will', 'nine', 'with', 'thereby', 'whereas', 'if', 'under', 'five', 'one', 'ourselves', 'take', 'must', 'during', 'give', 'within', 'every', 'become', 'get', 'while', 'any', 'myself', 'rather', 'becomes', 'she', 'anyone', 'been', 'we', 'anything', 'found', 'ie', 'top', 'anywhere', 'go', 'everywhere', 'system', 'together', 'another', 'else', 'on', 'hereby', 'ten', 'never', 'please', 'although', 'somehow', 'however', 'noone', 'ltd', 'how', 'off', 'whom', 'hundred', 'often', 'further', 'nowhere', 'almost', 'third', 'whose', 'ever', 'against', 'thence', 'nothing', 'of', 'than', 'themselves', 'am', 'after', 'whither', 'either', 'do', 'beforehand', 'thru', 'hereafter', 'several', 'along', 'be', 'sometime', 'name', 'meanwhile', 'move', 'made', 'out', 'towards', 'except', 'moreover', 'wherever', 'up', 'show', 'well', 'therein', 'your', 'same', 'even', 'less', 'has', 'twenty', 'only', 'once', 'keep', 'whenever', 'being', 'who', 'fill', 'much', 'four', 'which', 'neither', 'detail', 'forty', 'himself', 'last', 'both', 'hers', 'seem', 'amongst', 'everyone', 'have', 'in', 'nobody'})\n"
     ]
    },
    {
     "name": "stderr",
     "output_type": "stream",
     "text": [
      "C:\\Users\\Rinze\\.conda\\envs\\matrix\\lib\\site-packages\\sklearn\\utils\\deprecation.py:143: FutureWarning: The sklearn.feature_extraction.stop_words module is  deprecated in version 0.22 and will be removed in version 0.24. The corresponding classes / functions should instead be imported from sklearn.feature_extraction.text. Anything that cannot be imported from sklearn.feature_extraction.text is now part of the private API.\n",
      "  warnings.warn(message, FutureWarning)\n"
     ]
    }
   ],
   "source": [
    "from sklearn.feature_extraction import stop_words\n",
    "print(stop_words.ENGLISH_STOP_WORDS)"
   ]
  },
  {
   "cell_type": "markdown",
   "metadata": {},
   "source": [
    "You should have seen a large list of words that looks like:\n",
    "\n",
    "```frozenset({'across', 'mine', 'cannot', ...})```\n",
    "\n",
    "`frozenset` is a type of Python object that is immutable. In this lab you can use it just like an array without conversion."
   ]
  },
  {
   "cell_type": "markdown",
   "metadata": {},
   "source": [
    "Next, test your function with supplying `stop_words.ENGLISH_STOP_WORDS` as the second parameter."
   ]
  },
  {
   "cell_type": "code",
   "execution_count": 14,
   "metadata": {},
   "outputs": [
    {
     "name": "stdout",
     "output_type": "stream",
     "text": [
      "{'bag_of_words': ['ironhack', 'cool', 'love', 'student'], 'term_freq': [[1, 1, 0, 0], [1, 0, 1, 0], [1, 0, 0, 1]]}\n"
     ]
    }
   ],
   "source": [
    "bow = get_bow_from_docs(docs, stop_words.ENGLISH_STOP_WORDS)\n",
    "\n",
    "print(bow)"
   ]
  },
  {
   "cell_type": "markdown",
   "metadata": {},
   "source": [
    "You should have seen:\n",
    "\n",
    "```{'bag_of_words': ['ironhack', 'cool', 'love', 'student'], 'term_freq': [[1, 1, 0, 0], [1, 0, 1, 0], [1, 0, 0, 1]]}```"
   ]
  },
  {
   "cell_type": "code",
   "execution_count": null,
   "metadata": {},
   "outputs": [],
   "source": []
  }
 ],
 "metadata": {
  "kernelspec": {
   "display_name": "Python 3",
   "language": "python",
   "name": "python3"
  },
  "language_info": {
   "codemirror_mode": {
    "name": "ipython",
    "version": 3
   },
   "file_extension": ".py",
   "mimetype": "text/x-python",
   "name": "python",
   "nbconvert_exporter": "python",
   "pygments_lexer": "ipython3",
   "version": "3.8.5"
  }
 },
 "nbformat": 4,
 "nbformat_minor": 4
}
